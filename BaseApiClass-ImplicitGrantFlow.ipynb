{
 "cells": [
  {
   "cell_type": "code",
   "execution_count": 10,
   "metadata": {},
   "outputs": [
    {
     "name": "stdout",
     "output_type": "stream",
     "text": [
      "Requirement already satisfied: requests in /home/unf0rgiv3n/anaconda3/lib/python3.8/site-packages (2.24.0)\n",
      "Requirement already satisfied: urllib3!=1.25.0,!=1.25.1,<1.26,>=1.21.1 in /home/unf0rgiv3n/anaconda3/lib/python3.8/site-packages (from requests) (1.25.11)\n",
      "Requirement already satisfied: certifi>=2017.4.17 in /home/unf0rgiv3n/anaconda3/lib/python3.8/site-packages (from requests) (2020.6.20)\n",
      "Requirement already satisfied: chardet<4,>=3.0.2 in /home/unf0rgiv3n/anaconda3/lib/python3.8/site-packages (from requests) (3.0.4)\n",
      "Requirement already satisfied: idna<3,>=2.5 in /home/unf0rgiv3n/anaconda3/lib/python3.8/site-packages (from requests) (2.10)\n"
     ]
    }
   ],
   "source": [
    "!pip install requests"
   ]
  },
  {
   "cell_type": "code",
   "execution_count": 11,
   "metadata": {},
   "outputs": [],
   "source": [
    "import base64\n",
    "import requests\n",
    "import datetime\n",
    "from urllib.parse import urlencode\n",
    "from urllib.parse import urlparse\n",
    "import webbrowser"
   ]
  },
  {
   "cell_type": "code",
   "execution_count": 12,
   "metadata": {},
   "outputs": [],
   "source": [
    "client_id = 'f7d3070bc538436e9d424e6954776192'\n",
    "client_secret = '44d4c5c3a6e4458b999d02206383a16e'"
   ]
  },
  {
   "cell_type": "code",
   "execution_count": 23,
   "metadata": {},
   "outputs": [],
   "source": [
    "class SpotifyAPI():\n",
    "    access_token = None\n",
    "    access_token_expires = None\n",
    "    access_token_did_expire = True\n",
    "    client_id = None\n",
    "    client_secret = None\n",
    "    did_perform_grant_flow_auth = False\n",
    "    authorize_url = \"https://accounts.spotify.com/authorize\"\n",
    "    redirected_url = None\n",
    "    \n",
    "    \n",
    "    def __init__(self, client_id, client_secret, *args, **kwargs):\n",
    "        super().__init__(*args, **kwargs)\n",
    "        self.client_id = client_id\n",
    "        self.client_secret = client_secret\n",
    "        \n",
    "    def get_client_credentials(self):\n",
    "        client_id = self.client_id\n",
    "        client_secret = self.client_secret\n",
    "        if client_secret == None or client_id == None:\n",
    "            raise Exception(\"client_secret or client_id is None\")\n",
    "        client_credentianls = f\"{client_id}:{client_secret}\"\n",
    "        client_credentials_b64 = base64.b64encode(client_credentials.encode())\n",
    "        return client_credentials_b64.decode()\n",
    "    \n",
    "    def get_token_data(self):\n",
    "        return {\n",
    "            \"grant_type\": \"client_credentials\"\n",
    "        }\n",
    "    \n",
    "    def get_token_headers(self):\n",
    "        return {\n",
    "            \"Authorization\": f\"Basic {client_credentials_b64.decode()}\"\n",
    "        }\n",
    "        \n",
    "    def perform_auth(self):\n",
    "        token_url = self.token_url\n",
    "        token_data = self.get_token_data()\n",
    "        token_headers = self.get_token_headers()\n",
    "        request = requests.post(token_url, data=token_data, headers=token_headers)\n",
    "        if request.status_code in range(200,299):\n",
    "            token_response_data = request.json()\n",
    "            current_time = datetime.datetime.now()\n",
    "            access_token = token_response_data['access_token']\n",
    "            expires_in_seconds = token_response_data['expires_in']\n",
    "            expires = current_time + datetime.timedelta(seconds=expires_in_seconds)\n",
    "            self.access_token = access_token\n",
    "            self.access_token_expires = expires\n",
    "            self.access_token_did_expire = expires < current_time\n",
    "            return True\n",
    "        return False\n",
    "    \n",
    "    def perform_auth_grant_flow(self):\n",
    "        client_id = self.client_id\n",
    "        authorize_url = self.authorize_url\n",
    "        redirect_uri = \"http://localhost:8888\"\n",
    "        authorize_url = self.authorize_url\n",
    "        scope = \"user-read-playback-position user-read-recently-played\"\n",
    "        parameters = urlencode({\"client_id\": client_id, \"redirect_uri\": redirect_uri, \"response_type\": \"token\", \n",
    "                                \"scope\": scope})\n",
    "        request = requests.get(f\"{authorize_url}?{parameters}\")\n",
    "        if request.status_code in range(200,299):\n",
    "            webbrowser.open(f\"{authorize_url}?{parameters}\")\n",
    "            return True\n",
    "        else:\n",
    "            raise Exception(\"failed to request\")\n",
    "            return False\n",
    "    \n",
    "    def set_redirected_url(self, url):\n",
    "        self.redirected_url = url\n",
    "        \n",
    "    def get_redirected_url(self):\n",
    "        return self.redirected_url\n",
    "    \n",
    "    def parse_redirected_url(self, url):\n",
    "        if did_perform:\n",
    "            spotify.set_redirected_url(url)\n",
    "            query = urlparse(spotify.get_redirected_url())[5]\n",
    "            parts = query.split('&')\n",
    "    \n",
    "        if range(len(parts) != 3):\n",
    "            raise Exception(\"Access denied\")\n",
    "    \n",
    "        for i in range(len(parts)):\n",
    "            parts[i] = parts[i].split('=')[1]\n",
    "        return parts\n",
    "    \n",
    "    def set_access_token_and_expire(self, parts):\n",
    "        self.access_token = parts[0]\n",
    "        expires_in_seconds = int(parts[2])\n",
    "        current_time = datetime.datetime.now()\n",
    "        expires = current_time + datetime.timedelta(seconds=expires_in_seconds)\n",
    "        self.token_expires = expires\n",
    "        self.access_token_did_expire = expires < current_time\n",
    "    \n",
    "    def get_access_token(self):\n",
    "        return self.access_token"
   ]
  },
  {
   "cell_type": "code",
   "execution_count": 24,
   "metadata": {},
   "outputs": [],
   "source": [
    "spotify = SpotifyAPI(client_id, client_secret);\n",
    "did_perform = spotify.perform_auth_grant_flow()"
   ]
  },
  {
   "cell_type": "code",
   "execution_count": 168,
   "metadata": {},
   "outputs": [
    {
     "name": "stdout",
     "output_type": "stream",
     "text": [
      "BQBUbtaqgrlUJPpYj-0s-SUaCH1-vDeZ2klSf1CH4lRT4rradMXuDg0ab61z0yunzBCcg1DIPaKWySa0TvwN6cntkMeurWS-2QPSh_72otc1pSqIH49a7gUajA8CTBaJGWdiG2_H0c1eP7Pr77q9\n"
     ]
    }
   ],
   "source": [
    "query = spotify.parse_redirected_url('http://localhost:8888/notebooks/BaseApiClass-Copy1.ipynb#access_token=BQBUbtaqgrlUJPpYj-0s-SUaCH1-vDeZ2klSf1CH4lRT4rradMXuDg0ab61z0yunzBCcg1DIPaKWySa0TvwN6cntkMeurWS-2QPSh_72otc1pSqIH49a7gUajA8CTBaJGWdiG2_H0c1eP7Pr77q9&token_type=Bearer&expires_in=3600')\n",
    "spotify.set_access_token_and_expire(query)\n",
    "print(spotify.get_access_token())"
   ]
  },
  {
   "cell_type": "code",
   "execution_count": 169,
   "metadata": {},
   "outputs": [
    {
     "name": "stdout",
     "output_type": "stream",
     "text": [
      "{'timestamp': 1616518474553, 'context': {'external_urls': {'spotify': 'https://open.spotify.com/playlist/37i9dQZF1E36R4l1u8NIsU'}, 'href': 'https://api.spotify.com/v1/playlists/37i9dQZF1E36R4l1u8NIsU', 'type': 'playlist', 'uri': 'spotify:user:spotify:playlist:37i9dQZF1E36R4l1u8NIsU'}, 'progress_ms': 51442, 'item': {'album': {'album_type': 'album', 'artists': [{'external_urls': {'spotify': 'https://open.spotify.com/artist/3uL4UpqShC4p2x1dJutoRW'}, 'href': 'https://api.spotify.com/v1/artists/3uL4UpqShC4p2x1dJutoRW', 'id': '3uL4UpqShC4p2x1dJutoRW', 'name': 'Ghostemane', 'type': 'artist', 'uri': 'spotify:artist:3uL4UpqShC4p2x1dJutoRW'}], 'external_urls': {'spotify': 'https://open.spotify.com/album/3gEv1vpsDgaEo4TLuu0Lwz'}, 'href': 'https://api.spotify.com/v1/albums/3gEv1vpsDgaEo4TLuu0Lwz', 'id': '3gEv1vpsDgaEo4TLuu0Lwz', 'images': [{'height': 640, 'url': 'https://i.scdn.co/image/ab67616d0000b273d2d74feea8cc2b317638969b', 'width': 640}, {'height': 300, 'url': 'https://i.scdn.co/image/ab67616d00001e02d2d74feea8cc2b317638969b', 'width': 300}, {'height': 64, 'url': 'https://i.scdn.co/image/ab67616d00004851d2d74feea8cc2b317638969b', 'width': 64}], 'name': 'ANTI-ICON', 'release_date': '2020-10-21', 'release_date_precision': 'day', 'total_tracks': 13, 'type': 'album', 'uri': 'spotify:album:3gEv1vpsDgaEo4TLuu0Lwz'}, 'artists': [{'external_urls': {'spotify': 'https://open.spotify.com/artist/3uL4UpqShC4p2x1dJutoRW'}, 'href': 'https://api.spotify.com/v1/artists/3uL4UpqShC4p2x1dJutoRW', 'id': '3uL4UpqShC4p2x1dJutoRW', 'name': 'Ghostemane', 'type': 'artist', 'uri': 'spotify:artist:3uL4UpqShC4p2x1dJutoRW'}], 'disc_number': 1, 'duration_ms': 130438, 'explicit': True, 'external_ids': {'isrc': 'ZZOPM2003238'}, 'external_urls': {'spotify': 'https://open.spotify.com/track/1cwcmyyPTjJrH2tZpjrYxD'}, 'href': 'https://api.spotify.com/v1/tracks/1cwcmyyPTjJrH2tZpjrYxD', 'id': '1cwcmyyPTjJrH2tZpjrYxD', 'is_local': False, 'is_playable': True, 'name': 'Hellrap', 'popularity': 60, 'preview_url': 'https://p.scdn.co/mp3-preview/93acd2b8ca7e5476e4bb67fdd0f3648b910de100?cid=f7d3070bc538436e9d424e6954776192', 'track_number': 9, 'type': 'track', 'uri': 'spotify:track:1cwcmyyPTjJrH2tZpjrYxD'}, 'currently_playing_type': 'track', 'actions': {'disallows': {'resuming': True}}, 'is_playing': True}\n"
     ]
    }
   ],
   "source": [
    "headers = {\n",
    "    \"Accept\": \"application/json\",\n",
    "    \"Content-Type\": \"application/json\",\n",
    "    \"Authorization\": f\"Bearer {spotify.get_access_token()}\"\n",
    "}\n",
    "endpoint = \"https://api.spotify.com/v1/me/player/currently-playing?market=PL\"\n",
    "#data = urlencode({\"\"})\n",
    "lookup_url = f\"{endpoint}\"\n",
    "\n",
    "r = requests.get(lookup_url, headers=headers)\n",
    "print(r.json())"
   ]
  },
  {
   "cell_type": "code",
   "execution_count": null,
   "metadata": {},
   "outputs": [],
   "source": []
  },
  {
   "cell_type": "code",
   "execution_count": null,
   "metadata": {},
   "outputs": [],
   "source": []
  }
 ],
 "metadata": {
  "kernelspec": {
   "display_name": "Python 3",
   "language": "python",
   "name": "python3"
  },
  "language_info": {
   "codemirror_mode": {
    "name": "ipython",
    "version": 3
   },
   "file_extension": ".py",
   "mimetype": "text/x-python",
   "name": "python",
   "nbconvert_exporter": "python",
   "pygments_lexer": "ipython3",
   "version": "3.8.5"
  }
 },
 "nbformat": 4,
 "nbformat_minor": 4
}
