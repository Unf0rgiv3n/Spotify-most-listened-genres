{
 "cells": [
  {
   "cell_type": "code",
   "execution_count": 1,
   "metadata": {},
   "outputs": [
    {
     "name": "stdout",
     "output_type": "stream",
     "text": [
      "Requirement already satisfied: requests in /home/unf0rgiv3n/anaconda3/lib/python3.8/site-packages (2.24.0)\n",
      "Requirement already satisfied: certifi>=2017.4.17 in /home/unf0rgiv3n/anaconda3/lib/python3.8/site-packages (from requests) (2020.6.20)\n",
      "Requirement already satisfied: idna<3,>=2.5 in /home/unf0rgiv3n/anaconda3/lib/python3.8/site-packages (from requests) (2.10)\n",
      "Requirement already satisfied: chardet<4,>=3.0.2 in /home/unf0rgiv3n/anaconda3/lib/python3.8/site-packages (from requests) (3.0.4)\n",
      "Requirement already satisfied: urllib3!=1.25.0,!=1.25.1,<1.26,>=1.21.1 in /home/unf0rgiv3n/anaconda3/lib/python3.8/site-packages (from requests) (1.25.11)\n",
      "Requirement already satisfied: selenium in /home/unf0rgiv3n/anaconda3/lib/python3.8/site-packages (3.141.0)\n",
      "Requirement already satisfied: urllib3 in /home/unf0rgiv3n/anaconda3/lib/python3.8/site-packages (from selenium) (1.25.11)\n"
     ]
    }
   ],
   "source": [
    "!pip install requests\n",
    "!pip install selenium"
   ]
  },
  {
   "cell_type": "code",
   "execution_count": 2,
   "metadata": {},
   "outputs": [],
   "source": [
    "import base64\n",
    "import requests\n",
    "import datetime\n",
    "from urllib.parse import urlencode\n",
    "from urllib.parse import urlparse\n",
    "import webbrowser\n",
    "from selenium import webdriver\n",
    "from selenium.webdriver.support.ui import WebDriverWait\n",
    "from selenium.webdriver.support import expected_conditions as EC\n",
    "import config\n",
    "import json"
   ]
  },
  {
   "cell_type": "code",
   "execution_count": 3,
   "metadata": {},
   "outputs": [],
   "source": [
    "client_id = config.client_id\n",
    "client_secret = config.client_secret"
   ]
  },
  {
   "cell_type": "code",
   "execution_count": 26,
   "metadata": {},
   "outputs": [],
   "source": [
    "class SpotifyAPI():\n",
    "    access_token = None\n",
    "    access_token_expires = None\n",
    "    access_token_did_expire = True\n",
    "    client_id = None\n",
    "    client_secret = None\n",
    "    did_perform_grant_flow_auth = False\n",
    "    authorize_url = \"https://accounts.spotify.com/authorize\"\n",
    "    redirected_url = None\n",
    "    scope = None\n",
    "    headers = None\n",
    "    \n",
    "    \n",
    "    def __init__(self, client_id, client_secret, *args, **kwargs):\n",
    "        super().__init__(*args, **kwargs)\n",
    "        self.client_id = client_id\n",
    "        self.client_secret = client_secret\n",
    "    \n",
    "    def perform_auth_grant_flow(self):\n",
    "        client_id = self.client_id\n",
    "        authorize_url = self.authorize_url\n",
    "        redirect_uri = \"http://localhost:8888/callback\"\n",
    "        authorize_url = self.authorize_url\n",
    "        scope = self.scope\n",
    "        if scope is None:\n",
    "            raise Exception(\"lack of scope, set permissions scope\")\n",
    "        \n",
    "        parameters = urlencode({\"client_id\": client_id, \"redirect_uri\": redirect_uri, \"response_type\": \"token\", \n",
    "                                \"scope\": scope})\n",
    "        request = requests.get(f\"{authorize_url}?{parameters}\")\n",
    "        if request.status_code in range(200,299):\n",
    "            #webbrowser.open(f\"{authorize_url}?{parameters}\")\n",
    "            driver = webdriver.Chrome(\"/usr/lib/chromium-browser/chromedriver\")\n",
    "            driver.get(f\"{authorize_url}?{parameters}\")\n",
    "            try:\n",
    "                WebDriverWait(driver, 60).until(EC.url_contains(\"access\"))\n",
    "            finally:\n",
    "                url = driver.current_url\n",
    "                driver.quit();\n",
    "                return url\n",
    "        else:\n",
    "            raise Exception(\"failed to request\")\n",
    "    \n",
    "    def set_redirected_url(self, url):\n",
    "        self.redirected_url = url\n",
    "        \n",
    "    def get_redirected_url(self):\n",
    "        return self.redirected_url\n",
    "    \n",
    "    def parse_redirected_url(self, url):\n",
    "        if 'error' in url:\n",
    "            raise Exception(\"user denied access\")\n",
    "            \n",
    "        \n",
    "        spotify.set_redirected_url(url)\n",
    "        query = urlparse(spotify.get_redirected_url())[5]\n",
    "        parts = query.split('&')\n",
    "    \n",
    "        for i in range(len(parts)):\n",
    "            parts[i] = parts[i].split('=')[1]\n",
    "        return parts\n",
    "    \n",
    "    def set_access_token_and_expire(self, parts):\n",
    "        self.access_token = parts[0]\n",
    "        expires_in_seconds = int(parts[2])\n",
    "        current_time = datetime.datetime.now()\n",
    "        expires = current_time + datetime.timedelta(seconds=expires_in_seconds)\n",
    "        self.token_expires = expires\n",
    "        self.access_token_did_expire = expires < current_time\n",
    "    \n",
    "    def get_access_token(self):\n",
    "        return self.access_token\n",
    "    \n",
    "    def get_expires(self):\n",
    "        return self.token_expires\n",
    "    \n",
    "    ### different scopes must be space separated\n",
    "    def set_scope(self, scope_string):\n",
    "        self.scope = scope_string\n",
    "        \n",
    "    def get_scope(self):\n",
    "        return self.scope\n",
    "    \n",
    "    def set_headers(self, access_token):\n",
    "        self.headers = {\n",
    "            \"Accept\": \"application/json\",\n",
    "            \"Content-Type\": \"application/json\",\n",
    "            \"Authorization\": f\"Bearer {access_token}\"\n",
    "        }\n",
    "        \n",
    "    def get_headers(self):\n",
    "        return self.headers\n",
    "    \n",
    "    def get_request(self, endpoint):\n",
    "        headers = self.headers\n",
    "        \n",
    "        if headers is None:\n",
    "            raise Exception(\"didn't set headers\")\n",
    "            \n",
    "        r = requests.get(endpoint, headers=headers)\n",
    "        \n",
    "        if r.status_code == 204:\n",
    "            raise Exception(\"No content in request\")\n",
    "            \n",
    "        return r\n",
    "    \n",
    "    def get_current_user_playlists(self):\n",
    "        \n",
    "        if \"playlist-read-private\" not in self.scope:\n",
    "            raise Exception(\"didn't find playlist-read-private in scope\")\n",
    "        \n",
    "        version = \"v1\"\n",
    "        endpoint = f\"https://api.spotify.com/{version}/me/playlists?limit=50\"\n",
    "        r = self.get_request(endpoint)\n",
    "        \n",
    "        return r.json()\n",
    "    \n",
    "    def get_playlists_ids(self, playlists_json):\n",
    "        ids = []\n",
    "        for item in playlists_json['items']:\n",
    "            ids.append(item['id'])\n",
    "        return ids\n",
    "    \n",
    "    def get_playlist_tracks(self, playlist_id):\n",
    "        version = \"v1\"\n",
    "        endpoint = f\"https://api.spotify.com/{version}/playlists/{playlist_id}/tracks\"\n",
    "        r = self.get_request(endpoint)\n",
    "        return r.json()\n",
    "    \n",
    "    def get_tracks_artists_ids(self, tracks_json):\n",
    "        ids = []\n",
    "        for item in tracks_json['items']:\n",
    "            ids.append(item['track']['artists'][0]['id'])\n",
    "        return ids"
   ]
  },
  {
   "cell_type": "code",
   "execution_count": 27,
   "metadata": {},
   "outputs": [],
   "source": [
    "spotify = SpotifyAPI(client_id, client_secret);\n",
    "spotify.set_scope(\"playlist-read-private\")\n",
    "url = spotify.perform_auth_grant_flow()"
   ]
  },
  {
   "cell_type": "code",
   "execution_count": 21,
   "metadata": {},
   "outputs": [],
   "source": [
    "query = spotify.parse_redirected_url(url)\n",
    "spotify.set_access_token_and_expire(query)\n",
    "spotify.set_headers(spotify.get_access_token())"
   ]
  },
  {
   "cell_type": "code",
   "execution_count": 24,
   "metadata": {},
   "outputs": [
    {
     "name": "stdout",
     "output_type": "stream",
     "text": [
      "['2UA39JwqwiRSXHtfuGbGpk', '37i9dQZF1EttGlFRCrAVsG', '37i9dQZF1E9P2I7X5YoJ37', '37i9dQZF1EjniAoe8LUcSU', '63VZkiWGeT9aBwmSZtpymg', '37i9dQZF1ELZchLZzCHvOS', '5Q3z2p5TmCEdiGOW45VZnZ', '2cig4VycUu3V1FLotxciXE', '0XJDyY2UMcTnZZwRCaAWV4', '0ZBb59skaWIDwJHPFDV92a', '4WlYbStsVuSo4noLAL3kwX', '37i9dQZF1DWXo9v62EXLlM', '7abUEbx189e8lj57YkhMn3', '37i9dQZF1DWWEJlAGA9gs0', '37i9dQZF1DX2LTcinqsO68', '2FSTEf54NbWRZoXFKmxuIj', '01v0GcDMIML985JQs5QwgZ', '4nsNXKrmW9dhFeONFLaEe5', '5Yxx7cxBOoBmeMaMsjyS8C', '4blr5yafyFPhdyREKHQ4go', '37i9dQZF1DX4JAvHpjipBk', '6v0i58u43Xi5MHLS4AuMCa', '2X8xtgNR285fRPWpiXQEP0', '37i9dQZF1DWZeKCadgRdKQ', '05bouYSYuqwmMePAxw2qK3', '37i9dQZEVXcUW1YfiO3Qsa']\n"
     ]
    }
   ],
   "source": [
    "playlist_json = spotify.get_current_user_playlists();\n",
    "playlist_ids = spotify.get_playlists_ids(playlist_json)\n",
    "print(playlist_ids)"
   ]
  },
  {
   "cell_type": "code",
   "execution_count": 25,
   "metadata": {},
   "outputs": [
    {
     "name": "stdout",
     "output_type": "stream",
     "text": [
      "{'href': 'https://api.spotify.com/v1/playlists/2UA39JwqwiRSXHtfuGbGpk/tracks?offset=0&limit=100', 'items': [{'added_at': '2021-03-16T21:40:04Z', 'added_by': {'external_urls': {'spotify': 'https://open.spotify.com/user/kuba007x'}, 'href': 'https://api.spotify.com/v1/users/kuba007x', 'id': 'kuba007x', 'type': 'user', 'uri': 'spotify:user:kuba007x'}, 'is_local': False, 'primary_color': None, 'track': {'album': {'album_type': 'single', 'artists': [{'external_urls': {'spotify': 'https://open.spotify.com/artist/3eM69n1zBUNhr7nsDLm5AH'}, 'href': 'https://api.spotify.com/v1/artists/3eM69n1zBUNhr7nsDLm5AH', 'id': '3eM69n1zBUNhr7nsDLm5AH', 'name': 'Kuki', 'type': 'artist', 'uri': 'spotify:artist:3eM69n1zBUNhr7nsDLm5AH'}], 'available_markets': ['AD', 'AE', 'AG', 'AL', 'AM', 'AO', 'AR', 'AT', 'AU', 'AZ', 'BA', 'BB', 'BD', 'BE', 'BF', 'BG', 'BH', 'BI', 'BJ', 'BN', 'BO', 'BR', 'BS', 'BT', 'BW', 'BY', 'BZ', 'CA', 'CH', 'CI', 'CL', 'CM', 'CO', 'CR', 'CV', 'CW', 'CY', 'CZ', 'DE', 'DJ', 'DK', 'DM', 'DO', 'DZ', 'EC', 'EE', 'EG', 'ES', 'FI', 'FJ', 'FM', 'FR', 'GA', 'GB', 'GD', 'GE', 'GH', 'GM', 'GN', 'GQ', 'GR', 'GT', 'GW', 'GY', 'HK', 'HN', 'HR', 'HT', 'HU', 'ID', 'IE', 'IL', 'IN', 'IS', 'IT', 'JM', 'JO', 'JP', 'KE', 'KG', 'KH', 'KI', 'KM', 'KN', 'KR', 'KW', 'KZ', 'LA', 'LB', 'LC', 'LI', 'LK', 'LR', 'LS', 'LT', 'LU', 'LV', 'MA', 'MC', 'MD', 'ME', 'MG', 'MH', 'MK', 'ML', 'MN', 'MO', 'MR', 'MT', 'MU', 'MV', 'MW', 'MX', 'MY', 'MZ', 'NA', 'NE', 'NG', 'NI', 'NL', 'NO', 'NP', 'NR', 'NZ', 'OM', 'PA', 'PE', 'PG', 'PH', 'PK', 'PL', 'PS', 'PT', 'PW', 'PY', 'QA', 'RO', 'RS', 'RU', 'RW', 'SA', 'SB', 'SC', 'SE', 'SG', 'SI', 'SK', 'SL', 'SM', 'SN', 'SR', 'ST', 'SV', 'SZ', 'TD', 'TG', 'TH', 'TL', 'TN', 'TO', 'TR', 'TT', 'TV', 'TW', 'TZ', 'UA', 'UG', 'US', 'UY', 'UZ', 'VC', 'VN', 'VU', 'WS', 'XK', 'ZA', 'ZM', 'ZW'], 'external_urls': {'spotify': 'https://open.spotify.com/album/4eOH01eIc6bMeAGhgtbsuF'}, 'href': 'https://api.spotify.com/v1/albums/4eOH01eIc6bMeAGhgtbsuF', 'id': '4eOH01eIc6bMeAGhgtbsuF', 'images': [{'height': 640, 'url': 'https://i.scdn.co/image/ab67616d0000b2739576057551af1b221acb1eb8', 'width': 640}, {'height': 300, 'url': 'https://i.scdn.co/image/ab67616d00001e029576057551af1b221acb1eb8', 'width': 300}, {'height': 64, 'url': 'https://i.scdn.co/image/ab67616d000048519576057551af1b221acb1eb8', 'width': 64}], 'name': 'SUMMERTIME H VOL.2 (MIXTAPE)', 'release_date': '2019-07-25', 'release_date_precision': 'day', 'total_tracks': 5, 'type': 'album', 'uri': 'spotify:album:4eOH01eIc6bMeAGhgtbsuF'}, 'artists': [{'external_urls': {'spotify': 'https://open.spotify.com/artist/3eM69n1zBUNhr7nsDLm5AH'}, 'href': 'https://api.spotify.com/v1/artists/3eM69n1zBUNhr7nsDLm5AH', 'id': '3eM69n1zBUNhr7nsDLm5AH', 'name': 'Kuki', 'type': 'artist', 'uri': 'spotify:artist:3eM69n1zBUNhr7nsDLm5AH'}], 'available_markets': ['AD', 'AE', 'AG', 'AL', 'AM', 'AO', 'AR', 'AT', 'AU', 'AZ', 'BA', 'BB', 'BD', 'BE', 'BF', 'BG', 'BH', 'BI', 'BJ', 'BN', 'BO', 'BR', 'BS', 'BT', 'BW', 'BY', 'BZ', 'CA', 'CH', 'CI', 'CL', 'CM', 'CO', 'CR', 'CV', 'CW', 'CY', 'CZ', 'DE', 'DJ', 'DK', 'DM', 'DO', 'DZ', 'EC', 'EE', 'EG', 'ES', 'FI', 'FJ', 'FM', 'FR', 'GA', 'GB', 'GD', 'GE', 'GH', 'GM', 'GN', 'GQ', 'GR', 'GT', 'GW', 'GY', 'HK', 'HN', 'HR', 'HT', 'HU', 'ID', 'IE', 'IL', 'IN', 'IS', 'IT', 'JM', 'JO', 'JP', 'KE', 'KG', 'KH', 'KI', 'KM', 'KN', 'KR', 'KW', 'KZ', 'LA', 'LB', 'LC', 'LI', 'LK', 'LR', 'LS', 'LT', 'LU', 'LV', 'MA', 'MC', 'MD', 'ME', 'MG', 'MH', 'MK', 'ML', 'MN', 'MO', 'MR', 'MT', 'MU', 'MV', 'MW', 'MX', 'MY', 'MZ', 'NA', 'NE', 'NG', 'NI', 'NL', 'NO', 'NP', 'NR', 'NZ', 'OM', 'PA', 'PE', 'PG', 'PH', 'PK', 'PL', 'PS', 'PT', 'PW', 'PY', 'QA', 'RO', 'RS', 'RU', 'RW', 'SA', 'SB', 'SC', 'SE', 'SG', 'SI', 'SK', 'SL', 'SM', 'SN', 'SR', 'ST', 'SV', 'SZ', 'TD', 'TG', 'TH', 'TL', 'TN', 'TO', 'TR', 'TT', 'TV', 'TW', 'TZ', 'UA', 'UG', 'US', 'UY', 'UZ', 'VC', 'VN', 'VU', 'WS', 'XK', 'ZA', 'ZM', 'ZW'], 'disc_number': 1, 'duration_ms': 190733, 'episode': False, 'explicit': True, 'external_ids': {'isrc': 'GBSMU6699335'}, 'external_urls': {'spotify': 'https://open.spotify.com/track/53UVPw2PCZL151rVpqpqep'}, 'href': 'https://api.spotify.com/v1/tracks/53UVPw2PCZL151rVpqpqep', 'id': '53UVPw2PCZL151rVpqpqep', 'is_local': False, 'name': 'Ciepłe dranie', 'popularity': 53, 'preview_url': 'https://p.scdn.co/mp3-preview/1aae7cc296d4aa3032bd90f53144baedc027aaa9?cid=fe905339a12b410788d97cc560184229', 'track': True, 'track_number': 4, 'type': 'track', 'uri': 'spotify:track:53UVPw2PCZL151rVpqpqep'}, 'video_thumbnail': {'url': None}}, {'added_at': '2021-03-16T21:40:15Z', 'added_by': {'external_urls': {'spotify': 'https://open.spotify.com/user/kuba007x'}, 'href': 'https://api.spotify.com/v1/users/kuba007x', 'id': 'kuba007x', 'type': 'user', 'uri': 'spotify:user:kuba007x'}, 'is_local': False, 'primary_color': None, 'track': {'album': {'album_type': 'single', 'artists': [{'external_urls': {'spotify': 'https://open.spotify.com/artist/0MIG6gMcQTSvFbKvUwK0id'}, 'href': 'https://api.spotify.com/v1/artists/0MIG6gMcQTSvFbKvUwK0id', 'id': '0MIG6gMcQTSvFbKvUwK0id', 'name': 'Mata', 'type': 'artist', 'uri': 'spotify:artist:0MIG6gMcQTSvFbKvUwK0id'}], 'available_markets': ['AD', 'AE', 'AG', 'AL', 'AM', 'AO', 'AR', 'AT', 'AU', 'AZ', 'BA', 'BB', 'BD', 'BE', 'BF', 'BG', 'BH', 'BI', 'BJ', 'BN', 'BO', 'BR', 'BS', 'BT', 'BW', 'BY', 'BZ', 'CA', 'CH', 'CI', 'CL', 'CM', 'CO', 'CR', 'CV', 'CW', 'CY', 'CZ', 'DE', 'DJ', 'DK', 'DM', 'DO', 'DZ', 'EC', 'EE', 'EG', 'ES', 'FI', 'FJ', 'FM', 'FR', 'GA', 'GB', 'GD', 'GE', 'GH', 'GM', 'GN', 'GQ', 'GR', 'GT', 'GW', 'GY', 'HK', 'HN', 'HR', 'HT', 'HU', 'ID', 'IE', 'IL', 'IN', 'IS', 'IT', 'JM', 'JO', 'JP', 'KE', 'KG', 'KH', 'KI', 'KM', 'KN', 'KR', 'KW', 'KZ', 'LA', 'LB', 'LC', 'LI', 'LK', 'LR', 'LS', 'LT', 'LU', 'LV', 'MA', 'MC', 'MD', 'ME', 'MG', 'MH', 'MK', 'ML', 'MN', 'MO', 'MR', 'MT', 'MU', 'MV', 'MW', 'MX', 'MY', 'MZ', 'NA', 'NE', 'NG', 'NI', 'NL', 'NO', 'NP', 'NR', 'NZ', 'OM', 'PA', 'PE', 'PG', 'PH', 'PK', 'PL', 'PS', 'PT', 'PW', 'PY', 'QA', 'RO', 'RS', 'RU', 'RW', 'SA', 'SB', 'SC', 'SE', 'SG', 'SI', 'SK', 'SL', 'SM', 'SN', 'SR', 'ST', 'SV', 'SZ', 'TD', 'TG', 'TH', 'TL', 'TN', 'TO', 'TR', 'TT', 'TV', 'TW', 'TZ', 'UA', 'UG', 'US', 'UY', 'UZ', 'VC', 'VN', 'VU', 'WS', 'XK', 'ZA', 'ZM', 'ZW'], 'external_urls': {'spotify': 'https://open.spotify.com/album/5SbyqVEqOGMeOnX9c0izZy'}, 'href': 'https://api.spotify.com/v1/albums/5SbyqVEqOGMeOnX9c0izZy', 'id': '5SbyqVEqOGMeOnX9c0izZy', 'images': [{'height': 640, 'url': 'https://i.scdn.co/image/ab67616d0000b273aeabbf974c351ca213e85abd', 'width': 640}, {'height': 300, 'url': 'https://i.scdn.co/image/ab67616d00001e02aeabbf974c351ca213e85abd', 'width': 300}, {'height': 64, 'url': 'https://i.scdn.co/image/ab67616d00004851aeabbf974c351ca213e85abd', 'width': 64}], 'name': 'Schodki', 'release_date': '2020-06-01', 'release_date_precision': 'day', 'total_tracks': 1, 'type': 'album', 'uri': 'spotify:album:5SbyqVEqOGMeOnX9c0izZy'}, 'artists': [{'external_urls': {'spotify': 'https://open.spotify.com/artist/0MIG6gMcQTSvFbKvUwK0id'}, 'href': 'https://api.spotify.com/v1/artists/0MIG6gMcQTSvFbKvUwK0id', 'id': '0MIG6gMcQTSvFbKvUwK0id', 'name': 'Mata', 'type': 'artist', 'uri': 'spotify:artist:0MIG6gMcQTSvFbKvUwK0id'}], 'available_markets': ['AD', 'AE', 'AG', 'AL', 'AM', 'AO', 'AR', 'AT', 'AU', 'AZ', 'BA', 'BB', 'BD', 'BE', 'BF', 'BG', 'BH', 'BI', 'BJ', 'BN', 'BO', 'BR', 'BS', 'BT', 'BW', 'BY', 'BZ', 'CA', 'CH', 'CI', 'CL', 'CM', 'CO', 'CR', 'CV', 'CW', 'CY', 'CZ', 'DE', 'DJ', 'DK', 'DM', 'DO', 'DZ', 'EC', 'EE', 'EG', 'ES', 'FI', 'FJ', 'FM', 'FR', 'GA', 'GB', 'GD', 'GE', 'GH', 'GM', 'GN', 'GQ', 'GR', 'GT', 'GW', 'GY', 'HK', 'HN', 'HR', 'HT', 'HU', 'ID', 'IE', 'IL', 'IN', 'IS', 'IT', 'JM', 'JO', 'JP', 'KE', 'KG', 'KH', 'KI', 'KM', 'KN', 'KR', 'KW', 'KZ', 'LA', 'LB', 'LC', 'LI', 'LK', 'LR', 'LS', 'LT', 'LU', 'LV', 'MA', 'MC', 'MD', 'ME', 'MG', 'MH', 'MK', 'ML', 'MN', 'MO', 'MR', 'MT', 'MU', 'MV', 'MW', 'MX', 'MY', 'MZ', 'NA', 'NE', 'NG', 'NI', 'NL', 'NO', 'NP', 'NR', 'NZ', 'OM', 'PA', 'PE', 'PG', 'PH', 'PK', 'PL', 'PS', 'PT', 'PW', 'PY', 'QA', 'RO', 'RS', 'RU', 'RW', 'SA', 'SB', 'SC', 'SE', 'SG', 'SI', 'SK', 'SL', 'SM', 'SN', 'SR', 'ST', 'SV', 'SZ', 'TD', 'TG', 'TH', 'TL', 'TN', 'TO', 'TR', 'TT', 'TV', 'TW', 'TZ', 'UA', 'UG', 'US', 'UY', 'UZ', 'VC', 'VN', 'VU', 'WS', 'XK', 'ZA', 'ZM', 'ZW'], 'disc_number': 1, 'duration_ms': 235772, 'episode': False, 'explicit': False, 'external_ids': {'isrc': 'PLS281900478'}, 'external_urls': {'spotify': 'https://open.spotify.com/track/5hbjEop5ZACSF37JmcsQQU'}, 'href': 'https://api.spotify.com/v1/tracks/5hbjEop5ZACSF37JmcsQQU', 'id': '5hbjEop5ZACSF37JmcsQQU', 'is_local': False, 'name': 'Schodki', 'popularity': 53, 'preview_url': 'https://p.scdn.co/mp3-preview/884247a1263da0da7f2c3c8cb424a8b58e7b56fd?cid=fe905339a12b410788d97cc560184229', 'track': True, 'track_number': 1, 'type': 'track', 'uri': 'spotify:track:5hbjEop5ZACSF37JmcsQQU'}, 'video_thumbnail': {'url': None}}, {'added_at': '2021-03-16T21:40:46Z', 'added_by': {'external_urls': {'spotify': 'https://open.spotify.com/user/kuba007x'}, 'href': 'https://api.spotify.com/v1/users/kuba007x', 'id': 'kuba007x', 'type': 'user', 'uri': 'spotify:user:kuba007x'}, 'is_local': False, 'primary_color': None, 'track': {'album': {'album_type': 'album', 'artists': [{'external_urls': {'spotify': 'https://open.spotify.com/artist/28MEXbuN5228Ig7tTlyEpV'}, 'href': 'https://api.spotify.com/v1/artists/28MEXbuN5228Ig7tTlyEpV', 'id': '28MEXbuN5228Ig7tTlyEpV', 'name': 'Molesta', 'type': 'artist', 'uri': 'spotify:artist:28MEXbuN5228Ig7tTlyEpV'}], 'available_markets': ['AD', 'AE', 'AG', 'AL', 'AM', 'AO', 'AR', 'AT', 'AU', 'AZ', 'BA', 'BB', 'BD', 'BE', 'BF', 'BG', 'BH', 'BI', 'BJ', 'BN', 'BO', 'BR', 'BS', 'BT', 'BW', 'BY', 'BZ', 'CA', 'CH', 'CI', 'CL', 'CM', 'CO', 'CR', 'CV', 'CW', 'CY', 'CZ', 'DE', 'DJ', 'DK', 'DM', 'DO', 'DZ', 'EC', 'EE', 'EG', 'ES', 'FI', 'FJ', 'FM', 'FR', 'GA', 'GB', 'GD', 'GE', 'GH', 'GM', 'GN', 'GQ', 'GR', 'GT', 'GW', 'GY', 'HK', 'HN', 'HR', 'HT', 'HU', 'ID', 'IE', 'IL', 'IN', 'IS', 'IT', 'JM', 'JO', 'JP', 'KE', 'KG', 'KH', 'KI', 'KM', 'KN', 'KR', 'KW', 'KZ', 'LA', 'LB', 'LC', 'LI', 'LK', 'LR', 'LS', 'LT', 'LU', 'LV', 'MA', 'MC', 'MD', 'ME', 'MG', 'MH', 'MK', 'ML', 'MN', 'MO', 'MR', 'MT', 'MU', 'MV', 'MW', 'MX', 'MY', 'MZ', 'NA', 'NE', 'NG', 'NI', 'NL', 'NO', 'NP', 'NR', 'NZ', 'OM', 'PA', 'PE', 'PG', 'PH', 'PK', 'PL', 'PS', 'PT', 'PW', 'PY', 'QA', 'RO', 'RS', 'RU', 'RW', 'SA', 'SB', 'SC', 'SE', 'SG', 'SI', 'SK', 'SL', 'SM', 'SN', 'SR', 'ST', 'SV', 'SZ', 'TD', 'TG', 'TH', 'TL', 'TN', 'TO', 'TR', 'TT', 'TV', 'TW', 'TZ', 'UA', 'UG', 'US', 'UY', 'UZ', 'VC', 'VN', 'VU', 'WS', 'XK', 'ZA', 'ZM', 'ZW'], 'external_urls': {'spotify': 'https://open.spotify.com/album/1l8d3Ijl6gtfrcacgHdXHv'}, 'href': 'https://api.spotify.com/v1/albums/1l8d3Ijl6gtfrcacgHdXHv', 'id': '1l8d3Ijl6gtfrcacgHdXHv', 'images': [{'height': 640, 'url': 'https://i.scdn.co/image/ab67616d0000b273937111e160868a084f3441ea', 'width': 640}, {'height': 300, 'url': 'https://i.scdn.co/image/ab67616d00001e02937111e160868a084f3441ea', 'width': 300}, {'height': 64, 'url': 'https://i.scdn.co/image/ab67616d00004851937111e160868a084f3441ea', 'width': 64}], 'name': 'Skandal', 'release_date': '1998', 'release_date_precision': 'year', 'total_tracks': 17, 'type': 'album', 'uri': 'spotify:album:1l8d3Ijl6gtfrcacgHdXHv'}, 'artists': [{'external_urls': {'spotify': 'https://open.spotify.com/artist/28MEXbuN5228Ig7tTlyEpV'}, 'href': 'https://api.spotify.com/v1/artists/28MEXbuN5228Ig7tTlyEpV', 'id': '28MEXbuN5228Ig7tTlyEpV', 'name': 'Molesta', 'type': 'artist', 'uri': 'spotify:artist:28MEXbuN5228Ig7tTlyEpV'}], 'available_markets': ['AD', 'AE', 'AG', 'AL', 'AM', 'AO', 'AR', 'AT', 'AU', 'AZ', 'BA', 'BB', 'BD', 'BE', 'BF', 'BG', 'BH', 'BI', 'BJ', 'BN', 'BO', 'BR', 'BS', 'BT', 'BW', 'BY', 'BZ', 'CA', 'CH', 'CI', 'CL', 'CM', 'CO', 'CR', 'CV', 'CW', 'CY', 'CZ', 'DE', 'DJ', 'DK', 'DM', 'DO', 'DZ', 'EC', 'EE', 'EG', 'ES', 'FI', 'FJ', 'FM', 'FR', 'GA', 'GB', 'GD', 'GE', 'GH', 'GM', 'GN', 'GQ', 'GR', 'GT', 'GW', 'GY', 'HK', 'HN', 'HR', 'HT', 'HU', 'ID', 'IE', 'IL', 'IN', 'IS', 'IT', 'JM', 'JO', 'JP', 'KE', 'KG', 'KH', 'KI', 'KM', 'KN', 'KR', 'KW', 'KZ', 'LA', 'LB', 'LC', 'LI', 'LK', 'LR', 'LS', 'LT', 'LU', 'LV', 'MA', 'MC', 'MD', 'ME', 'MG', 'MH', 'MK', 'ML', 'MN', 'MO', 'MR', 'MT', 'MU', 'MV', 'MW', 'MX', 'MY', 'MZ', 'NA', 'NE', 'NG', 'NI', 'NL', 'NO', 'NP', 'NR', 'NZ', 'OM', 'PA', 'PE', 'PG', 'PH', 'PK', 'PL', 'PS', 'PT', 'PW', 'PY', 'QA', 'RO', 'RS', 'RU', 'RW', 'SA', 'SB', 'SC', 'SE', 'SG', 'SI', 'SK', 'SL', 'SM', 'SN', 'SR', 'ST', 'SV', 'SZ', 'TD', 'TG', 'TH', 'TL', 'TN', 'TO', 'TR', 'TT', 'TV', 'TW', 'TZ', 'UA', 'UG', 'US', 'UY', 'UZ', 'VC', 'VN', 'VU', 'WS', 'XK', 'ZA', 'ZM', 'ZW'], 'disc_number': 1, 'duration_ms': 341813, 'episode': False, 'explicit': False, 'external_ids': {'isrc': 'PLA559700047'}, 'external_urls': {'spotify': 'https://open.spotify.com/track/3QuT68jh6xsyz169IY1NeG'}, 'href': 'https://api.spotify.com/v1/tracks/3QuT68jh6xsyz169IY1NeG', 'id': '3QuT68jh6xsyz169IY1NeG', 'is_local': False, 'name': 'Wiedziałem, że tak będzie', 'popularity': 43, 'preview_url': 'https://p.scdn.co/mp3-preview/3169e0c8216e88bf97250653ce740a2a3ec0f8ae?cid=fe905339a12b410788d97cc560184229', 'track': True, 'track_number': 7, 'type': 'track', 'uri': 'spotify:track:3QuT68jh6xsyz169IY1NeG'}, 'video_thumbnail': {'url': None}}, {'added_at': '2021-03-16T21:40:52Z', 'added_by': {'external_urls': {'spotify': 'https://open.spotify.com/user/kuba007x'}, 'href': 'https://api.spotify.com/v1/users/kuba007x', 'id': 'kuba007x', 'type': 'user', 'uri': 'spotify:user:kuba007x'}, 'is_local': False, 'primary_color': None, 'track': {'album': {'album_type': 'album', 'artists': [{'external_urls': {'spotify': 'https://open.spotify.com/artist/0MIG6gMcQTSvFbKvUwK0id'}, 'href': 'https://api.spotify.com/v1/artists/0MIG6gMcQTSvFbKvUwK0id', 'id': '0MIG6gMcQTSvFbKvUwK0id', 'name': 'Mata', 'type': 'artist', 'uri': 'spotify:artist:0MIG6gMcQTSvFbKvUwK0id'}], 'available_markets': ['AD', 'AE', 'AG', 'AL', 'AM', 'AO', 'AR', 'AT', 'AU', 'AZ', 'BA', 'BB', 'BD', 'BE', 'BF', 'BG', 'BH', 'BI', 'BJ', 'BN', 'BO', 'BR', 'BS', 'BT', 'BW', 'BY', 'BZ', 'CA', 'CH', 'CI', 'CL', 'CM', 'CO', 'CR', 'CV', 'CW', 'CY', 'CZ', 'DE', 'DJ', 'DK', 'DM', 'DO', 'DZ', 'EC', 'EE', 'EG', 'ES', 'FI', 'FJ', 'FM', 'FR', 'GA', 'GB', 'GD', 'GE', 'GH', 'GM', 'GN', 'GQ', 'GR', 'GT', 'GW', 'GY', 'HK', 'HN', 'HR', 'HT', 'HU', 'ID', 'IE', 'IL', 'IN', 'IS', 'IT', 'JM', 'JO', 'JP', 'KE', 'KG', 'KH', 'KI', 'KM', 'KN', 'KR', 'KW', 'KZ', 'LA', 'LB', 'LC', 'LI', 'LK', 'LR', 'LS', 'LT', 'LU', 'LV', 'MA', 'MC', 'MD', 'ME', 'MG', 'MH', 'MK', 'ML', 'MN', 'MO', 'MR', 'MT', 'MU', 'MV', 'MW', 'MX', 'MY', 'MZ', 'NA', 'NE', 'NG', 'NI', 'NL', 'NO', 'NP', 'NR', 'NZ', 'OM', 'PA', 'PE', 'PG', 'PH', 'PK', 'PL', 'PS', 'PT', 'PW', 'PY', 'QA', 'RO', 'RS', 'RU', 'RW', 'SA', 'SB', 'SC', 'SE', 'SG', 'SI', 'SK', 'SL', 'SM', 'SN', 'SR', 'ST', 'SV', 'SZ', 'TD', 'TG', 'TH', 'TL', 'TN', 'TO', 'TR', 'TT', 'TV', 'TW', 'TZ', 'UA', 'UG', 'US', 'UY', 'UZ', 'VC', 'VN', 'VU', 'WS', 'XK', 'ZA', 'ZM', 'ZW'], 'external_urls': {'spotify': 'https://open.spotify.com/album/2XEybHzEROxx8nLUOrtSbL'}, 'href': 'https://api.spotify.com/v1/albums/2XEybHzEROxx8nLUOrtSbL', 'id': '2XEybHzEROxx8nLUOrtSbL', 'images': [{'height': 640, 'url': 'https://i.scdn.co/image/ab67616d0000b2730e33698e02004a608a15c177', 'width': 640}, {'height': 300, 'url': 'https://i.scdn.co/image/ab67616d00001e020e33698e02004a608a15c177', 'width': 300}, {'height': 64, 'url': 'https://i.scdn.co/image/ab67616d000048510e33698e02004a608a15c177', 'width': 64}], 'name': '100 dni do matury', 'release_date': '2020-01-17', 'release_date_precision': 'day', 'total_tracks': 18, 'type': 'album', 'uri': 'spotify:album:2XEybHzEROxx8nLUOrtSbL'}, 'artists': [{'external_urls': {'spotify': 'https://open.spotify.com/artist/0MIG6gMcQTSvFbKvUwK0id'}, 'href': 'https://api.spotify.com/v1/artists/0MIG6gMcQTSvFbKvUwK0id', 'id': '0MIG6gMcQTSvFbKvUwK0id', 'name': 'Mata', 'type': 'artist', 'uri': 'spotify:artist:0MIG6gMcQTSvFbKvUwK0id'}], 'available_markets': ['AD', 'AE', 'AG', 'AL', 'AM', 'AO', 'AR', 'AT', 'AU', 'AZ', 'BA', 'BB', 'BD', 'BE', 'BF', 'BG', 'BH', 'BI', 'BJ', 'BN', 'BO', 'BR', 'BS', 'BT', 'BW', 'BY', 'BZ', 'CA', 'CH', 'CI', 'CL', 'CM', 'CO', 'CR', 'CV', 'CW', 'CY', 'CZ', 'DE', 'DJ', 'DK', 'DM', 'DO', 'DZ', 'EC', 'EE', 'EG', 'ES', 'FI', 'FJ', 'FM', 'FR', 'GA', 'GB', 'GD', 'GE', 'GH', 'GM', 'GN', 'GQ', 'GR', 'GT', 'GW', 'GY', 'HK', 'HN', 'HR', 'HT', 'HU', 'ID', 'IE', 'IL', 'IN', 'IS', 'IT', 'JM', 'JO', 'JP', 'KE', 'KG', 'KH', 'KI', 'KM', 'KN', 'KR', 'KW', 'KZ', 'LA', 'LB', 'LC', 'LI', 'LK', 'LR', 'LS', 'LT', 'LU', 'LV', 'MA', 'MC', 'MD', 'ME', 'MG', 'MH', 'MK', 'ML', 'MN', 'MO', 'MR', 'MT', 'MU', 'MV', 'MW', 'MX', 'MY', 'MZ', 'NA', 'NE', 'NG', 'NI', 'NL', 'NO', 'NP', 'NR', 'NZ', 'OM', 'PA', 'PE', 'PG', 'PH', 'PK', 'PL', 'PS', 'PT', 'PW', 'PY', 'QA', 'RO', 'RS', 'RU', 'RW', 'SA', 'SB', 'SC', 'SE', 'SG', 'SI', 'SK', 'SL', 'SM', 'SN', 'SR', 'ST', 'SV', 'SZ', 'TD', 'TG', 'TH', 'TL', 'TN', 'TO', 'TR', 'TT', 'TV', 'TW', 'TZ', 'UA', 'UG', 'US', 'UY', 'UZ', 'VC', 'VN', 'VU', 'WS', 'XK', 'ZA', 'ZM', 'ZW'], 'disc_number': 1, 'duration_ms': 230173, 'episode': False, 'explicit': False, 'external_ids': {'isrc': 'PLS281900478'}, 'external_urls': {'spotify': 'https://open.spotify.com/track/7ozXiOdFfLHACRuWVjhesz'}, 'href': 'https://api.spotify.com/v1/tracks/7ozXiOdFfLHACRuWVjhesz', 'id': '7ozXiOdFfLHACRuWVjhesz', 'is_local': False, 'name': 'Prawy do Lewego', 'popularity': 55, 'preview_url': 'https://p.scdn.co/mp3-preview/643304f66e2f614783e5aa7c65efdc9cf2d869af?cid=fe905339a12b410788d97cc560184229', 'track': True, 'track_number': 18, 'type': 'track', 'uri': 'spotify:track:7ozXiOdFfLHACRuWVjhesz'}, 'video_thumbnail': {'url': None}}, {'added_at': '2021-03-16T21:40:57Z', 'added_by': {'external_urls': {'spotify': 'https://open.spotify.com/user/kuba007x'}, 'href': 'https://api.spotify.com/v1/users/kuba007x', 'id': 'kuba007x', 'type': 'user', 'uri': 'spotify:user:kuba007x'}, 'is_local': False, 'primary_color': None, 'track': {'album': {'album_type': 'album', 'artists': [{'external_urls': {'spotify': 'https://open.spotify.com/artist/0MIG6gMcQTSvFbKvUwK0id'}, 'href': 'https://api.spotify.com/v1/artists/0MIG6gMcQTSvFbKvUwK0id', 'id': '0MIG6gMcQTSvFbKvUwK0id', 'name': 'Mata', 'type': 'artist', 'uri': 'spotify:artist:0MIG6gMcQTSvFbKvUwK0id'}], 'available_markets': ['AD', 'AE', 'AG', 'AL', 'AM', 'AO', 'AR', 'AT', 'AU', 'AZ', 'BA', 'BB', 'BD', 'BE', 'BF', 'BG', 'BH', 'BI', 'BJ', 'BN', 'BO', 'BR', 'BS', 'BT', 'BW', 'BY', 'BZ', 'CA', 'CH', 'CI', 'CL', 'CM', 'CO', 'CR', 'CV', 'CW', 'CY', 'CZ', 'DE', 'DJ', 'DK', 'DM', 'DO', 'DZ', 'EC', 'EE', 'EG', 'ES', 'FI', 'FJ', 'FM', 'FR', 'GA', 'GB', 'GD', 'GE', 'GH', 'GM', 'GN', 'GQ', 'GR', 'GT', 'GW', 'GY', 'HK', 'HN', 'HR', 'HT', 'HU', 'ID', 'IE', 'IL', 'IN', 'IS', 'IT', 'JM', 'JO', 'JP', 'KE', 'KG', 'KH', 'KI', 'KM', 'KN', 'KR', 'KW', 'KZ', 'LA', 'LB', 'LC', 'LI', 'LK', 'LR', 'LS', 'LT', 'LU', 'LV', 'MA', 'MC', 'MD', 'ME', 'MG', 'MH', 'MK', 'ML', 'MN', 'MO', 'MR', 'MT', 'MU', 'MV', 'MW', 'MX', 'MY', 'MZ', 'NA', 'NE', 'NG', 'NI', 'NL', 'NO', 'NP', 'NR', 'NZ', 'OM', 'PA', 'PE', 'PG', 'PH', 'PK', 'PL', 'PS', 'PT', 'PW', 'PY', 'QA', 'RO', 'RS', 'RU', 'RW', 'SA', 'SB', 'SC', 'SE', 'SG', 'SI', 'SK', 'SL', 'SM', 'SN', 'SR', 'ST', 'SV', 'SZ', 'TD', 'TG', 'TH', 'TL', 'TN', 'TO', 'TR', 'TT', 'TV', 'TW', 'TZ', 'UA', 'UG', 'US', 'UY', 'UZ', 'VC', 'VN', 'VU', 'WS', 'XK', 'ZA', 'ZM', 'ZW'], 'external_urls': {'spotify': 'https://open.spotify.com/album/2XEybHzEROxx8nLUOrtSbL'}, 'href': 'https://api.spotify.com/v1/albums/2XEybHzEROxx8nLUOrtSbL', 'id': '2XEybHzEROxx8nLUOrtSbL', 'images': [{'height': 640, 'url': 'https://i.scdn.co/image/ab67616d0000b2730e33698e02004a608a15c177', 'width': 640}, {'height': 300, 'url': 'https://i.scdn.co/image/ab67616d00001e020e33698e02004a608a15c177', 'width': 300}, {'height': 64, 'url': 'https://i.scdn.co/image/ab67616d000048510e33698e02004a608a15c177', 'width': 64}], 'name': '100 dni do matury', 'release_date': '2020-01-17', 'release_date_precision': 'day', 'total_tracks': 18, 'type': 'album', 'uri': 'spotify:album:2XEybHzEROxx8nLUOrtSbL'}, 'artists': [{'external_urls': {'spotify': 'https://open.spotify.com/artist/0MIG6gMcQTSvFbKvUwK0id'}, 'href': 'https://api.spotify.com/v1/artists/0MIG6gMcQTSvFbKvUwK0id', 'id': '0MIG6gMcQTSvFbKvUwK0id', 'name': 'Mata', 'type': 'artist', 'uri': 'spotify:artist:0MIG6gMcQTSvFbKvUwK0id'}], 'available_markets': ['AD', 'AE', 'AG', 'AL', 'AM', 'AO', 'AR', 'AT', 'AU', 'AZ', 'BA', 'BB', 'BD', 'BE', 'BF', 'BG', 'BH', 'BI', 'BJ', 'BN', 'BO', 'BR', 'BS', 'BT', 'BW', 'BY', 'BZ', 'CA', 'CH', 'CI', 'CL', 'CM', 'CO', 'CR', 'CV', 'CW', 'CY', 'CZ', 'DE', 'DJ', 'DK', 'DM', 'DO', 'DZ', 'EC', 'EE', 'EG', 'ES', 'FI', 'FJ', 'FM', 'FR', 'GA', 'GB', 'GD', 'GE', 'GH', 'GM', 'GN', 'GQ', 'GR', 'GT', 'GW', 'GY', 'HK', 'HN', 'HR', 'HT', 'HU', 'ID', 'IE', 'IL', 'IN', 'IS', 'IT', 'JM', 'JO', 'JP', 'KE', 'KG', 'KH', 'KI', 'KM', 'KN', 'KR', 'KW', 'KZ', 'LA', 'LB', 'LC', 'LI', 'LK', 'LR', 'LS', 'LT', 'LU', 'LV', 'MA', 'MC', 'MD', 'ME', 'MG', 'MH', 'MK', 'ML', 'MN', 'MO', 'MR', 'MT', 'MU', 'MV', 'MW', 'MX', 'MY', 'MZ', 'NA', 'NE', 'NG', 'NI', 'NL', 'NO', 'NP', 'NR', 'NZ', 'OM', 'PA', 'PE', 'PG', 'PH', 'PK', 'PL', 'PS', 'PT', 'PW', 'PY', 'QA', 'RO', 'RS', 'RU', 'RW', 'SA', 'SB', 'SC', 'SE', 'SG', 'SI', 'SK', 'SL', 'SM', 'SN', 'SR', 'ST', 'SV', 'SZ', 'TD', 'TG', 'TH', 'TL', 'TN', 'TO', 'TR', 'TT', 'TV', 'TW', 'TZ', 'UA', 'UG', 'US', 'UY', 'UZ', 'VC', 'VN', 'VU', 'WS', 'XK', 'ZA', 'ZM', 'ZW'], 'disc_number': 1, 'duration_ms': 215680, 'episode': False, 'explicit': False, 'external_ids': {'isrc': 'PLS281900467'}, 'external_urls': {'spotify': 'https://open.spotify.com/track/7BGYwpS2RJ9Cp6YB6H0Xgd'}, 'href': 'https://api.spotify.com/v1/tracks/7BGYwpS2RJ9Cp6YB6H0Xgd', 'id': '7BGYwpS2RJ9Cp6YB6H0Xgd', 'is_local': False, 'name': 'Biblioteka Trap', 'popularity': 57, 'preview_url': 'https://p.scdn.co/mp3-preview/2e10d8af9e4f8cb93adb30b715cf273f76485d08?cid=fe905339a12b410788d97cc560184229', 'track': True, 'track_number': 2, 'type': 'track', 'uri': 'spotify:track:7BGYwpS2RJ9Cp6YB6H0Xgd'}, 'video_thumbnail': {'url': None}}, {'added_at': '2021-03-16T21:43:09Z', 'added_by': {'external_urls': {'spotify': 'https://open.spotify.com/user/kuba007x'}, 'href': 'https://api.spotify.com/v1/users/kuba007x', 'id': 'kuba007x', 'type': 'user', 'uri': 'spotify:user:kuba007x'}, 'is_local': False, 'primary_color': None, 'track': {'album': {'album_type': 'single', 'artists': [{'external_urls': {'spotify': 'https://open.spotify.com/artist/4nPxrGG7k7aEKmNLsfX4cd'}, 'href': 'https://api.spotify.com/v1/artists/4nPxrGG7k7aEKmNLsfX4cd', 'id': '4nPxrGG7k7aEKmNLsfX4cd', 'name': 'White 2115', 'type': 'artist', 'uri': 'spotify:artist:4nPxrGG7k7aEKmNLsfX4cd'}], 'available_markets': ['AD', 'AE', 'AG', 'AL', 'AM', 'AO', 'AR', 'AT', 'AU', 'AZ', 'BA', 'BB', 'BD', 'BE', 'BF', 'BG', 'BH', 'BI', 'BJ', 'BN', 'BO', 'BR', 'BS', 'BT', 'BW', 'BY', 'BZ', 'CA', 'CH', 'CI', 'CL', 'CM', 'CO', 'CR', 'CV', 'CW', 'CY', 'CZ', 'DE', 'DJ', 'DK', 'DM', 'DO', 'DZ', 'EC', 'EE', 'EG', 'ES', 'FI', 'FJ', 'FM', 'FR', 'GA', 'GB', 'GD', 'GE', 'GH', 'GM', 'GN', 'GQ', 'GR', 'GT', 'GW', 'GY', 'HK', 'HN', 'HR', 'HT', 'HU', 'ID', 'IE', 'IL', 'IN', 'IS', 'IT', 'JM', 'JO', 'JP', 'KE', 'KG', 'KH', 'KI', 'KM', 'KN', 'KR', 'KW', 'KZ', 'LA', 'LB', 'LC', 'LI', 'LK', 'LR', 'LS', 'LT', 'LU', 'LV', 'MA', 'MC', 'MD', 'ME', 'MG', 'MH', 'MK', 'ML', 'MN', 'MO', 'MR', 'MT', 'MU', 'MV', 'MW', 'MX', 'MY', 'MZ', 'NA', 'NE', 'NG', 'NI', 'NL', 'NO', 'NP', 'NR', 'NZ', 'OM', 'PA', 'PE', 'PG', 'PH', 'PK', 'PL', 'PS', 'PT', 'PW', 'PY', 'QA', 'RO', 'RS', 'RU', 'RW', 'SA', 'SB', 'SC', 'SE', 'SG', 'SI', 'SK', 'SL', 'SM', 'SN', 'SR', 'ST', 'SV', 'SZ', 'TD', 'TG', 'TH', 'TL', 'TN', 'TO', 'TR', 'TT', 'TV', 'TW', 'TZ', 'UA', 'UG', 'US', 'UY', 'UZ', 'VC', 'VN', 'VU', 'WS', 'XK', 'ZA', 'ZM', 'ZW'], 'external_urls': {'spotify': 'https://open.spotify.com/album/7bO4CoQ4jNqKUbOF9056zk'}, 'href': 'https://api.spotify.com/v1/albums/7bO4CoQ4jNqKUbOF9056zk', 'id': '7bO4CoQ4jNqKUbOF9056zk', 'images': [{'height': 640, 'url': 'https://i.scdn.co/image/ab67616d0000b2739ac4dd81e7dbf4d7ddf47d5d', 'width': 640}, {'height': 300, 'url': 'https://i.scdn.co/image/ab67616d00001e029ac4dd81e7dbf4d7ddf47d5d', 'width': 300}, {'height': 64, 'url': 'https://i.scdn.co/image/ab67616d000048519ac4dd81e7dbf4d7ddf47d5d', 'width': 64}], 'name': 'Morgan', 'release_date': '2020-06-10', 'release_date_precision': 'day', 'total_tracks': 1, 'type': 'album', 'uri': 'spotify:album:7bO4CoQ4jNqKUbOF9056zk'}, 'artists': [{'external_urls': {'spotify': 'https://open.spotify.com/artist/4nPxrGG7k7aEKmNLsfX4cd'}, 'href': 'https://api.spotify.com/v1/artists/4nPxrGG7k7aEKmNLsfX4cd', 'id': '4nPxrGG7k7aEKmNLsfX4cd', 'name': 'White 2115', 'type': 'artist', 'uri': 'spotify:artist:4nPxrGG7k7aEKmNLsfX4cd'}], 'available_markets': ['AD', 'AE', 'AG', 'AL', 'AM', 'AO', 'AR', 'AT', 'AU', 'AZ', 'BA', 'BB', 'BD', 'BE', 'BF', 'BG', 'BH', 'BI', 'BJ', 'BN', 'BO', 'BR', 'BS', 'BT', 'BW', 'BY', 'BZ', 'CA', 'CH', 'CI', 'CL', 'CM', 'CO', 'CR', 'CV', 'CW', 'CY', 'CZ', 'DE', 'DJ', 'DK', 'DM', 'DO', 'DZ', 'EC', 'EE', 'EG', 'ES', 'FI', 'FJ', 'FM', 'FR', 'GA', 'GB', 'GD', 'GE', 'GH', 'GM', 'GN', 'GQ', 'GR', 'GT', 'GW', 'GY', 'HK', 'HN', 'HR', 'HT', 'HU', 'ID', 'IE', 'IL', 'IN', 'IS', 'IT', 'JM', 'JO', 'JP', 'KE', 'KG', 'KH', 'KI', 'KM', 'KN', 'KR', 'KW', 'KZ', 'LA', 'LB', 'LC', 'LI', 'LK', 'LR', 'LS', 'LT', 'LU', 'LV', 'MA', 'MC', 'MD', 'ME', 'MG', 'MH', 'MK', 'ML', 'MN', 'MO', 'MR', 'MT', 'MU', 'MV', 'MW', 'MX', 'MY', 'MZ', 'NA', 'NE', 'NG', 'NI', 'NL', 'NO', 'NP', 'NR', 'NZ', 'OM', 'PA', 'PE', 'PG', 'PH', 'PK', 'PL', 'PS', 'PT', 'PW', 'PY', 'QA', 'RO', 'RS', 'RU', 'RW', 'SA', 'SB', 'SC', 'SE', 'SG', 'SI', 'SK', 'SL', 'SM', 'SN', 'SR', 'ST', 'SV', 'SZ', 'TD', 'TG', 'TH', 'TL', 'TN', 'TO', 'TR', 'TT', 'TV', 'TW', 'TZ', 'UA', 'UG', 'US', 'UY', 'UZ', 'VC', 'VN', 'VU', 'WS', 'XK', 'ZA', 'ZM', 'ZW'], 'disc_number': 1, 'duration_ms': 194306, 'episode': False, 'explicit': False, 'external_ids': {'isrc': 'PLS282000093'}, 'external_urls': {'spotify': 'https://open.spotify.com/track/6OE7voRcEvrBPDl7wqjn4D'}, 'href': 'https://api.spotify.com/v1/tracks/6OE7voRcEvrBPDl7wqjn4D', 'id': '6OE7voRcEvrBPDl7wqjn4D', 'is_local': False, 'name': 'Morgan', 'popularity': 58, 'preview_url': 'https://p.scdn.co/mp3-preview/e36a7621ac41ecc16ee370d8a2b0f6b1c13ce351?cid=fe905339a12b410788d97cc560184229', 'track': True, 'track_number': 1, 'type': 'track', 'uri': 'spotify:track:6OE7voRcEvrBPDl7wqjn4D'}, 'video_thumbnail': {'url': None}}, {'added_at': '2021-03-16T21:43:14Z', 'added_by': {'external_urls': {'spotify': 'https://open.spotify.com/user/kuba007x'}, 'href': 'https://api.spotify.com/v1/users/kuba007x', 'id': 'kuba007x', 'type': 'user', 'uri': 'spotify:user:kuba007x'}, 'is_local': False, 'primary_color': None, 'track': {'album': {'album_type': 'album', 'artists': [{'external_urls': {'spotify': 'https://open.spotify.com/artist/4nPxrGG7k7aEKmNLsfX4cd'}, 'href': 'https://api.spotify.com/v1/artists/4nPxrGG7k7aEKmNLsfX4cd', 'id': '4nPxrGG7k7aEKmNLsfX4cd', 'name': 'White 2115', 'type': 'artist', 'uri': 'spotify:artist:4nPxrGG7k7aEKmNLsfX4cd'}], 'available_markets': ['AD', 'AE', 'AG', 'AL', 'AM', 'AO', 'AR', 'AT', 'AU', 'AZ', 'BA', 'BB', 'BD', 'BE', 'BF', 'BG', 'BH', 'BI', 'BJ', 'BN', 'BO', 'BR', 'BS', 'BT', 'BW', 'BY', 'BZ', 'CA', 'CH', 'CI', 'CL', 'CM', 'CO', 'CR', 'CV', 'CW', 'CY', 'CZ', 'DE', 'DJ', 'DK', 'DM', 'DO', 'DZ', 'EC', 'EE', 'EG', 'ES', 'FI', 'FJ', 'FM', 'FR', 'GA', 'GB', 'GD', 'GE', 'GH', 'GM', 'GN', 'GQ', 'GR', 'GT', 'GW', 'GY', 'HK', 'HN', 'HR', 'HT', 'HU', 'ID', 'IE', 'IL', 'IN', 'IS', 'IT', 'JM', 'JO', 'JP', 'KE', 'KG', 'KH', 'KI', 'KM', 'KN', 'KR', 'KW', 'KZ', 'LA', 'LB', 'LC', 'LI', 'LK', 'LR', 'LS', 'LT', 'LU', 'LV', 'MA', 'MC', 'MD', 'ME', 'MG', 'MH', 'MK', 'ML', 'MN', 'MO', 'MR', 'MT', 'MU', 'MV', 'MW', 'MX', 'MY', 'MZ', 'NA', 'NE', 'NG', 'NI', 'NL', 'NO', 'NP', 'NR', 'NZ', 'OM', 'PA', 'PE', 'PG', 'PH', 'PK', 'PL', 'PS', 'PT', 'PW', 'PY', 'QA', 'RO', 'RS', 'RU', 'RW', 'SA', 'SB', 'SC', 'SE', 'SG', 'SI', 'SK', 'SL', 'SM', 'SN', 'SR', 'ST', 'SV', 'SZ', 'TD', 'TG', 'TH', 'TL', 'TN', 'TO', 'TR', 'TT', 'TV', 'TW', 'TZ', 'UA', 'UG', 'US', 'UY', 'UZ', 'VC', 'VN', 'VU', 'WS', 'XK', 'ZA', 'ZM', 'ZW'], 'external_urls': {'spotify': 'https://open.spotify.com/album/00sdJjCC3eeyzvvvxUPB7J'}, 'href': 'https://api.spotify.com/v1/albums/00sdJjCC3eeyzvvvxUPB7J', 'id': '00sdJjCC3eeyzvvvxUPB7J', 'images': [{'height': 640, 'url': 'https://i.scdn.co/image/ab67616d0000b273979af7753f47b632e0352576', 'width': 640}, {'height': 300, 'url': 'https://i.scdn.co/image/ab67616d00001e02979af7753f47b632e0352576', 'width': 300}, {'height': 64, 'url': 'https://i.scdn.co/image/ab67616d00004851979af7753f47b632e0352576', 'width': 64}], 'name': 'Rockstar: Do zachodu słońca', 'release_date': '2020-08-28', 'release_date_precision': 'day', 'total_tracks': 16, 'type': 'album', 'uri': 'spotify:album:00sdJjCC3eeyzvvvxUPB7J'}, 'artists': [{'external_urls': {'spotify': 'https://open.spotify.com/artist/4nPxrGG7k7aEKmNLsfX4cd'}, 'href': 'https://api.spotify.com/v1/artists/4nPxrGG7k7aEKmNLsfX4cd', 'id': '4nPxrGG7k7aEKmNLsfX4cd', 'name': 'White 2115', 'type': 'artist', 'uri': 'spotify:artist:4nPxrGG7k7aEKmNLsfX4cd'}], 'available_markets': ['AD', 'AE', 'AG', 'AL', 'AM', 'AO', 'AR', 'AT', 'AU', 'AZ', 'BA', 'BB', 'BD', 'BE', 'BF', 'BG', 'BH', 'BI', 'BJ', 'BN', 'BO', 'BR', 'BS', 'BT', 'BW', 'BY', 'BZ', 'CA', 'CH', 'CI', 'CL', 'CM', 'CO', 'CR', 'CV', 'CW', 'CY', 'CZ', 'DE', 'DJ', 'DK', 'DM', 'DO', 'DZ', 'EC', 'EE', 'EG', 'ES', 'FI', 'FJ', 'FM', 'FR', 'GA', 'GB', 'GD', 'GE', 'GH', 'GM', 'GN', 'GQ', 'GR', 'GT', 'GW', 'GY', 'HK', 'HN', 'HR', 'HT', 'HU', 'ID', 'IE', 'IL', 'IN', 'IS', 'IT', 'JM', 'JO', 'JP', 'KE', 'KG', 'KH', 'KI', 'KM', 'KN', 'KR', 'KW', 'KZ', 'LA', 'LB', 'LC', 'LI', 'LK', 'LR', 'LS', 'LT', 'LU', 'LV', 'MA', 'MC', 'MD', 'ME', 'MG', 'MH', 'MK', 'ML', 'MN', 'MO', 'MR', 'MT', 'MU', 'MV', 'MW', 'MX', 'MY', 'MZ', 'NA', 'NE', 'NG', 'NI', 'NL', 'NO', 'NP', 'NR', 'NZ', 'OM', 'PA', 'PE', 'PG', 'PH', 'PK', 'PL', 'PS', 'PT', 'PW', 'PY', 'QA', 'RO', 'RS', 'RU', 'RW', 'SA', 'SB', 'SC', 'SE', 'SG', 'SI', 'SK', 'SL', 'SM', 'SN', 'SR', 'ST', 'SV', 'SZ', 'TD', 'TG', 'TH', 'TL', 'TN', 'TO', 'TR', 'TT', 'TV', 'TW', 'TZ', 'UA', 'UG', 'US', 'UY', 'UZ', 'VC', 'VN', 'VU', 'WS', 'XK', 'ZA', 'ZM', 'ZW'], 'disc_number': 1, 'duration_ms': 206546, 'episode': False, 'explicit': True, 'external_ids': {'isrc': 'PLS282000156'}, 'external_urls': {'spotify': 'https://open.spotify.com/track/4Nw73SAVSmAkgscDAVjtau'}, 'href': 'https://api.spotify.com/v1/tracks/4Nw73SAVSmAkgscDAVjtau', 'id': '4Nw73SAVSmAkgscDAVjtau', 'is_local': False, 'name': 'Do zachodu słońca', 'popularity': 59, 'preview_url': 'https://p.scdn.co/mp3-preview/bd99e21576f2c4af09e51e4f684aa4c6715046c0?cid=fe905339a12b410788d97cc560184229', 'track': True, 'track_number': 5, 'type': 'track', 'uri': 'spotify:track:4Nw73SAVSmAkgscDAVjtau'}, 'video_thumbnail': {'url': None}}, {'added_at': '2021-03-16T21:43:20Z', 'added_by': {'external_urls': {'spotify': 'https://open.spotify.com/user/kuba007x'}, 'href': 'https://api.spotify.com/v1/users/kuba007x', 'id': 'kuba007x', 'type': 'user', 'uri': 'spotify:user:kuba007x'}, 'is_local': False, 'primary_color': None, 'track': {'album': {'album_type': 'album', 'artists': [{'external_urls': {'spotify': 'https://open.spotify.com/artist/4nPxrGG7k7aEKmNLsfX4cd'}, 'href': 'https://api.spotify.com/v1/artists/4nPxrGG7k7aEKmNLsfX4cd', 'id': '4nPxrGG7k7aEKmNLsfX4cd', 'name': 'White 2115', 'type': 'artist', 'uri': 'spotify:artist:4nPxrGG7k7aEKmNLsfX4cd'}], 'available_markets': ['AD', 'AE', 'AG', 'AL', 'AM', 'AO', 'AR', 'AT', 'AU', 'AZ', 'BA', 'BB', 'BD', 'BE', 'BF', 'BG', 'BH', 'BI', 'BJ', 'BN', 'BO', 'BR', 'BS', 'BT', 'BW', 'BY', 'BZ', 'CA', 'CH', 'CI', 'CL', 'CM', 'CO', 'CR', 'CV', 'CW', 'CY', 'CZ', 'DE', 'DJ', 'DK', 'DM', 'DO', 'DZ', 'EC', 'EE', 'EG', 'ES', 'FI', 'FJ', 'FM', 'FR', 'GA', 'GB', 'GD', 'GE', 'GH', 'GM', 'GN', 'GQ', 'GR', 'GT', 'GW', 'GY', 'HK', 'HN', 'HR', 'HT', 'HU', 'ID', 'IE', 'IL', 'IN', 'IS', 'IT', 'JM', 'JO', 'JP', 'KE', 'KG', 'KH', 'KI', 'KM', 'KN', 'KR', 'KW', 'KZ', 'LA', 'LB', 'LC', 'LI', 'LK', 'LR', 'LS', 'LT', 'LU', 'LV', 'MA', 'MC', 'MD', 'ME', 'MG', 'MH', 'MK', 'ML', 'MN', 'MO', 'MR', 'MT', 'MU', 'MV', 'MW', 'MX', 'MY', 'MZ', 'NA', 'NE', 'NG', 'NI', 'NL', 'NO', 'NP', 'NR', 'NZ', 'OM', 'PA', 'PE', 'PG', 'PH', 'PK', 'PL', 'PS', 'PT', 'PW', 'PY', 'QA', 'RO', 'RS', 'RU', 'RW', 'SA', 'SB', 'SC', 'SE', 'SG', 'SI', 'SK', 'SL', 'SM', 'SN', 'SR', 'ST', 'SV', 'SZ', 'TD', 'TG', 'TH', 'TL', 'TN', 'TO', 'TR', 'TT', 'TV', 'TW', 'TZ', 'UA', 'UG', 'US', 'UY', 'UZ', 'VC', 'VN', 'VU', 'WS', 'XK', 'ZA', 'ZM', 'ZW'], 'external_urls': {'spotify': 'https://open.spotify.com/album/00sdJjCC3eeyzvvvxUPB7J'}, 'href': 'https://api.spotify.com/v1/albums/00sdJjCC3eeyzvvvxUPB7J', 'id': '00sdJjCC3eeyzvvvxUPB7J', 'images': [{'height': 640, 'url': 'https://i.scdn.co/image/ab67616d0000b273979af7753f47b632e0352576', 'width': 640}, {'height': 300, 'url': 'https://i.scdn.co/image/ab67616d00001e02979af7753f47b632e0352576', 'width': 300}, {'height': 64, 'url': 'https://i.scdn.co/image/ab67616d00004851979af7753f47b632e0352576', 'width': 64}], 'name': 'Rockstar: Do zachodu słońca', 'release_date': '2020-08-28', 'release_date_precision': 'day', 'total_tracks': 16, 'type': 'album', 'uri': 'spotify:album:00sdJjCC3eeyzvvvxUPB7J'}, 'artists': [{'external_urls': {'spotify': 'https://open.spotify.com/artist/4nPxrGG7k7aEKmNLsfX4cd'}, 'href': 'https://api.spotify.com/v1/artists/4nPxrGG7k7aEKmNLsfX4cd', 'id': '4nPxrGG7k7aEKmNLsfX4cd', 'name': 'White 2115', 'type': 'artist', 'uri': 'spotify:artist:4nPxrGG7k7aEKmNLsfX4cd'}, {'external_urls': {'spotify': 'https://open.spotify.com/artist/6b5pfuVKCNs79hvVtSx2ht'}, 'href': 'https://api.spotify.com/v1/artists/6b5pfuVKCNs79hvVtSx2ht', 'id': '6b5pfuVKCNs79hvVtSx2ht', 'name': 'Friz', 'type': 'artist', 'uri': 'spotify:artist:6b5pfuVKCNs79hvVtSx2ht'}, {'external_urls': {'spotify': 'https://open.spotify.com/artist/7M5QLYpzgeunQvZiJWMOiy'}, 'href': 'https://api.spotify.com/v1/artists/7M5QLYpzgeunQvZiJWMOiy', 'id': '7M5QLYpzgeunQvZiJWMOiy', 'name': 'Raff J.R', 'type': 'artist', 'uri': 'spotify:artist:7M5QLYpzgeunQvZiJWMOiy'}], 'available_markets': ['AD', 'AE', 'AG', 'AL', 'AM', 'AO', 'AR', 'AT', 'AU', 'AZ', 'BA', 'BB', 'BD', 'BE', 'BF', 'BG', 'BH', 'BI', 'BJ', 'BN', 'BO', 'BR', 'BS', 'BT', 'BW', 'BY', 'BZ', 'CA', 'CH', 'CI', 'CL', 'CM', 'CO', 'CR', 'CV', 'CW', 'CY', 'CZ', 'DE', 'DJ', 'DK', 'DM', 'DO', 'DZ', 'EC', 'EE', 'EG', 'ES', 'FI', 'FJ', 'FM', 'FR', 'GA', 'GB', 'GD', 'GE', 'GH', 'GM', 'GN', 'GQ', 'GR', 'GT', 'GW', 'GY', 'HK', 'HN', 'HR', 'HT', 'HU', 'ID', 'IE', 'IL', 'IN', 'IS', 'IT', 'JM', 'JO', 'JP', 'KE', 'KG', 'KH', 'KI', 'KM', 'KN', 'KR', 'KW', 'KZ', 'LA', 'LB', 'LC', 'LI', 'LK', 'LR', 'LS', 'LT', 'LU', 'LV', 'MA', 'MC', 'MD', 'ME', 'MG', 'MH', 'MK', 'ML', 'MN', 'MO', 'MR', 'MT', 'MU', 'MV', 'MW', 'MX', 'MY', 'MZ', 'NA', 'NE', 'NG', 'NI', 'NL', 'NO', 'NP', 'NR', 'NZ', 'OM', 'PA', 'PE', 'PG', 'PH', 'PK', 'PL', 'PS', 'PT', 'PW', 'PY', 'QA', 'RO', 'RS', 'RU', 'RW', 'SA', 'SB', 'SC', 'SE', 'SG', 'SI', 'SK', 'SL', 'SM', 'SN', 'SR', 'ST', 'SV', 'SZ', 'TD', 'TG', 'TH', 'TL', 'TN', 'TO', 'TR', 'TT', 'TV', 'TW', 'TZ', 'UA', 'UG', 'US', 'UY', 'UZ', 'VC', 'VN', 'VU', 'WS', 'XK', 'ZA', 'ZM', 'ZW'], 'disc_number': 1, 'duration_ms': 191426, 'episode': False, 'explicit': True, 'external_ids': {'isrc': 'PLS282000158'}, 'external_urls': {'spotify': 'https://open.spotify.com/track/1dAEOpBFYGmQaTke643X2S'}, 'href': 'https://api.spotify.com/v1/tracks/1dAEOpBFYGmQaTke643X2S', 'id': '1dAEOpBFYGmQaTke643X2S', 'is_local': False, 'name': 'Porsche', 'popularity': 54, 'preview_url': 'https://p.scdn.co/mp3-preview/b500ed1204d9306a15f7d03337916eaaf33079a0?cid=fe905339a12b410788d97cc560184229', 'track': True, 'track_number': 7, 'type': 'track', 'uri': 'spotify:track:1dAEOpBFYGmQaTke643X2S'}, 'video_thumbnail': {'url': None}}], 'limit': 100, 'next': None, 'offset': 0, 'previous': None, 'total': 8}\n"
     ]
    }
   ],
   "source": [
    "tracks_json = spotify.get_playlist_tracks(playlist_ids[0])\n",
    "artists_ids = spotify.get_tracks_artists_ids(tracks_json)\n",
    "print(artists_ids)"
   ]
  },
  {
   "cell_type": "code",
   "execution_count": null,
   "metadata": {},
   "outputs": [],
   "source": []
  }
 ],
 "metadata": {
  "kernelspec": {
   "display_name": "Python 3",
   "language": "python",
   "name": "python3"
  },
  "language_info": {
   "codemirror_mode": {
    "name": "ipython",
    "version": 3
   },
   "file_extension": ".py",
   "mimetype": "text/x-python",
   "name": "python",
   "nbconvert_exporter": "python",
   "pygments_lexer": "ipython3",
   "version": "3.8.5"
  }
 },
 "nbformat": 4,
 "nbformat_minor": 4
}
