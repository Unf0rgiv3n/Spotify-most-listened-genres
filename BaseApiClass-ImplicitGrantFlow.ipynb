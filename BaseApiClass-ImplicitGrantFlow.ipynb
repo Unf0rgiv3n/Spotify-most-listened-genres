{
 "cells": [
  {
   "cell_type": "code",
   "execution_count": 1,
   "metadata": {},
   "outputs": [
    {
     "name": "stdout",
     "output_type": "stream",
     "text": [
      "Requirement already satisfied: requests in /home/unf0rgiv3n/anaconda3/lib/python3.8/site-packages (2.24.0)\n",
      "Requirement already satisfied: certifi>=2017.4.17 in /home/unf0rgiv3n/anaconda3/lib/python3.8/site-packages (from requests) (2020.6.20)\n",
      "Requirement already satisfied: idna<3,>=2.5 in /home/unf0rgiv3n/anaconda3/lib/python3.8/site-packages (from requests) (2.10)\n",
      "Requirement already satisfied: chardet<4,>=3.0.2 in /home/unf0rgiv3n/anaconda3/lib/python3.8/site-packages (from requests) (3.0.4)\n",
      "Requirement already satisfied: urllib3!=1.25.0,!=1.25.1,<1.26,>=1.21.1 in /home/unf0rgiv3n/anaconda3/lib/python3.8/site-packages (from requests) (1.25.11)\n",
      "Requirement already satisfied: selenium in /home/unf0rgiv3n/anaconda3/lib/python3.8/site-packages (3.141.0)\n",
      "Requirement already satisfied: urllib3 in /home/unf0rgiv3n/anaconda3/lib/python3.8/site-packages (from selenium) (1.25.11)\n"
     ]
    }
   ],
   "source": [
    "!pip install requests\n",
    "!pip install selenium"
   ]
  },
  {
   "cell_type": "code",
   "execution_count": 2,
   "metadata": {},
   "outputs": [],
   "source": [
    "import base64\n",
    "import requests\n",
    "import datetime\n",
    "from urllib.parse import urlencode\n",
    "from urllib.parse import urlparse\n",
    "import webbrowser\n",
    "from selenium import webdriver\n",
    "from selenium.webdriver.support.ui import WebDriverWait\n",
    "from selenium.webdriver.support import expected_conditions as EC\n",
    "import config\n",
    "import json"
   ]
  },
  {
   "cell_type": "code",
   "execution_count": 3,
   "metadata": {},
   "outputs": [],
   "source": [
    "client_id = config.client_id\n",
    "client_secret = config.client_secret"
   ]
  },
  {
   "cell_type": "code",
   "execution_count": null,
   "metadata": {},
   "outputs": [],
   "source": [
    "class SpotifyAPI():\n",
    "    access_token = None\n",
    "    access_token_expires = None\n",
    "    access_token_did_expire = True\n",
    "    client_id = None\n",
    "    client_secret = None\n",
    "    did_perform_grant_flow_auth = False\n",
    "    authorize_url = \"https://accounts.spotify.com/authorize\"\n",
    "    redirected_url = None\n",
    "    scope = None\n",
    "    headers = None\n",
    "    version = \"v1\"\n",
    "    \n",
    "    \n",
    "    def __init__(self, client_id, client_secret, *args, **kwargs):\n",
    "        super().__init__(*args, **kwargs)\n",
    "        self.client_id = client_id\n",
    "        self.client_secret = client_secret\n",
    "    \n",
    "    def perform_auth_grant_flow(self):\n",
    "        client_id = self.client_id\n",
    "        authorize_url = self.authorize_url\n",
    "        redirect_uri = \"http://localhost:8888/callback\"\n",
    "        authorize_url = self.authorize_url\n",
    "        scope = self.scope\n",
    "        if scope is None:\n",
    "            raise Exception(\"lack of scope, set permissions scope\")\n",
    "        \n",
    "        parameters = urlencode({\"client_id\": client_id, \"redirect_uri\": redirect_uri, \"response_type\": \"token\", \n",
    "                                \"scope\": scope})\n",
    "        request = requests.get(f\"{authorize_url}?{parameters}\")\n",
    "        if request.status_code in range(200,299):\n",
    "            #webbrowser.open(f\"{authorize_url}?{parameters}\")\n",
    "            driver = webdriver.Chrome(\"/usr/lib/chromium-browser/chromedriver\")\n",
    "            driver.get(f\"{authorize_url}?{parameters}\")\n",
    "            try:\n",
    "                WebDriverWait(driver, 60).until(EC.url_contains(\"access\"))\n",
    "            finally:\n",
    "                url = driver.current_url\n",
    "                driver.quit();\n",
    "                return url\n",
    "        else:\n",
    "            raise Exception(\"failed to request\")\n",
    "    \n",
    "    def set_redirected_url(self, url):\n",
    "        self.redirected_url = url\n",
    "        \n",
    "    def get_redirected_url(self):\n",
    "        return self.redirected_url\n",
    "    \n",
    "    def parse_redirected_url(self, url):\n",
    "        if 'error' in url:\n",
    "            raise Exception(\"user denied access\")\n",
    "            \n",
    "        \n",
    "        spotify.set_redirected_url(url)\n",
    "        query = urlparse(spotify.get_redirected_url())[5]\n",
    "        parts = query.split('&')\n",
    "    \n",
    "        for i in range(len(parts)):\n",
    "            parts[i] = parts[i].split('=')[1]\n",
    "        return parts\n",
    "    \n",
    "    def set_access_token_and_expire(self, parts):\n",
    "        self.access_token = parts[0]\n",
    "        expires_in_seconds = int(parts[2])\n",
    "        current_time = datetime.datetime.now()\n",
    "        expires = current_time + datetime.timedelta(seconds=expires_in_seconds)\n",
    "        self.token_expires = expires\n",
    "        self.access_token_did_expire = expires < current_time\n",
    "    \n",
    "    def get_access_token(self):\n",
    "        return self.access_token\n",
    "    \n",
    "    def get_expires(self):\n",
    "        return self.token_expires\n",
    "    \n",
    "    ### different scopes must be space separated\n",
    "    def set_scope(self, scope_string):\n",
    "        self.scope = scope_string\n",
    "        \n",
    "    def get_scope(self):\n",
    "        return self.scope\n",
    "    \n",
    "    def set_headers(self, access_token):\n",
    "        self.headers = {\n",
    "            \"Accept\": \"application/json\",\n",
    "            \"Content-Type\": \"application/json\",\n",
    "            \"Authorization\": f\"Bearer {access_token}\"\n",
    "        }\n",
    "        \n",
    "    def get_headers(self):\n",
    "        return self.headers\n",
    "    \n",
    "    def get_request(self, endpoint):\n",
    "        headers = self.headers\n",
    "        \n",
    "        if headers is None:\n",
    "            raise Exception(\"didn't set headers\")\n",
    "            \n",
    "        r = requests.get(endpoint, headers=headers)\n",
    "        \n",
    "        if r.status_code == 204:\n",
    "            raise Exception(\"No content in request\")\n",
    "            \n",
    "        return r\n",
    "    \n",
    "    def get_current_user_playlists(self):\n",
    "        \n",
    "        if \"playlist-read-private\" not in self.scope:\n",
    "            raise Exception(\"didn't find playlist-read-private in scope\")\n",
    "        \n",
    "        version = self.version\n",
    "        endpoint = f\"https://api.spotify.com/{version}/me/playlists?limit=50\"\n",
    "        r = self.get_request(endpoint)\n",
    "        \n",
    "        return r.json()\n",
    "    \n",
    "    def get_playlists_ids(self, playlists_json):\n",
    "        ids = []\n",
    "        for item in playlists_json['items']:\n",
    "            ids.append(item['id'])\n",
    "        return ids\n",
    "    \n",
    "    def get_playlist_tracks(self, playlist_id):\n",
    "        version = self.version\n",
    "        endpoint = f\"https://api.spotify.com/{version}/playlists/{playlist_id}/tracks\"\n",
    "        r = self.get_request(endpoint)\n",
    "        return r.json()\n",
    "    \n",
    "    def get_tracks_artists_ids(self, tracks_json):\n",
    "        ids = []\n",
    "        for item in tracks_json['items']:\n",
    "            ids.append(item['track']['artists'][0]['id'])\n",
    "        return ids\n",
    "    \n",
    "    def get_artist(self, artist_id):\n",
    "        version= self.version\n",
    "        endpoint = f\"https://api.spotify.com/{version}/artists/{artist_id}\"\n",
    "        r = self.get_request(endpoint)\n",
    "        return r.json()\n",
    "        "
   ]
  },
  {
   "cell_type": "code",
   "execution_count": 27,
   "metadata": {},
   "outputs": [],
   "source": [
    "spotify = SpotifyAPI(client_id, client_secret);\n",
    "spotify.set_scope(\"playlist-read-private\")\n",
    "url = spotify.perform_auth_grant_flow()"
   ]
  },
  {
   "cell_type": "code",
   "execution_count": 28,
   "metadata": {},
   "outputs": [],
   "source": [
    "query = spotify.parse_redirected_url(url)\n",
    "spotify.set_access_token_and_expire(query)\n",
    "spotify.set_headers(spotify.get_access_token())"
   ]
  },
  {
   "cell_type": "code",
   "execution_count": 29,
   "metadata": {},
   "outputs": [
    {
     "name": "stdout",
     "output_type": "stream",
     "text": [
      "['2UA39JwqwiRSXHtfuGbGpk', '37i9dQZF1EttGlFRCrAVsG', '37i9dQZF1E9P2I7X5YoJ37', '37i9dQZF1EjniAoe8LUcSU', '63VZkiWGeT9aBwmSZtpymg', '37i9dQZF1ELZchLZzCHvOS', '5Q3z2p5TmCEdiGOW45VZnZ', '2cig4VycUu3V1FLotxciXE', '0XJDyY2UMcTnZZwRCaAWV4', '0ZBb59skaWIDwJHPFDV92a', '4WlYbStsVuSo4noLAL3kwX', '37i9dQZF1DWXo9v62EXLlM', '7abUEbx189e8lj57YkhMn3', '37i9dQZF1DWWEJlAGA9gs0', '37i9dQZF1DX2LTcinqsO68', '2FSTEf54NbWRZoXFKmxuIj', '01v0GcDMIML985JQs5QwgZ', '4nsNXKrmW9dhFeONFLaEe5', '5Yxx7cxBOoBmeMaMsjyS8C', '4blr5yafyFPhdyREKHQ4go', '37i9dQZF1DX4JAvHpjipBk', '6v0i58u43Xi5MHLS4AuMCa', '2X8xtgNR285fRPWpiXQEP0', '37i9dQZF1DWZeKCadgRdKQ', '05bouYSYuqwmMePAxw2qK3', '37i9dQZEVXcUW1YfiO3Qsa']\n"
     ]
    }
   ],
   "source": [
    "playlist_json = spotify.get_current_user_playlists();\n",
    "playlist_ids = spotify.get_playlists_ids(playlist_json)\n",
    "print(playlist_ids)"
   ]
  },
  {
   "cell_type": "code",
   "execution_count": 30,
   "metadata": {},
   "outputs": [
    {
     "name": "stdout",
     "output_type": "stream",
     "text": [
      "['3eM69n1zBUNhr7nsDLm5AH', '0MIG6gMcQTSvFbKvUwK0id', '28MEXbuN5228Ig7tTlyEpV', '0MIG6gMcQTSvFbKvUwK0id', '0MIG6gMcQTSvFbKvUwK0id', '4nPxrGG7k7aEKmNLsfX4cd', '4nPxrGG7k7aEKmNLsfX4cd', '4nPxrGG7k7aEKmNLsfX4cd']\n"
     ]
    }
   ],
   "source": [
    "tracks_json = spotify.get_playlist_tracks(playlist_ids[0])\n",
    "artists_ids = spotify.get_tracks_artists_ids(tracks_json)\n",
    "print(artists_ids)"
   ]
  },
  {
   "cell_type": "code",
   "execution_count": null,
   "metadata": {},
   "outputs": [],
   "source": []
  }
 ],
 "metadata": {
  "kernelspec": {
   "display_name": "Python 3",
   "language": "python",
   "name": "python3"
  },
  "language_info": {
   "codemirror_mode": {
    "name": "ipython",
    "version": 3
   },
   "file_extension": ".py",
   "mimetype": "text/x-python",
   "name": "python",
   "nbconvert_exporter": "python",
   "pygments_lexer": "ipython3",
   "version": "3.8.5"
  }
 },
 "nbformat": 4,
 "nbformat_minor": 4
}
