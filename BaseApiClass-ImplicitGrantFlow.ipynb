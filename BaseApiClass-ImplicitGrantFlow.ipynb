{
 "cells": [
  {
   "cell_type": "code",
   "execution_count": null,
   "metadata": {},
   "outputs": [],
   "source": [
    "!pip install requests\n",
    "!pip install selenium"
   ]
  },
  {
   "cell_type": "code",
   "execution_count": null,
   "metadata": {},
   "outputs": [],
   "source": [
    "import base64\n",
    "import requests\n",
    "import datetime\n",
    "from urllib.parse import urlencode\n",
    "from urllib.parse import urlparse\n",
    "import webbrowser\n",
    "from selenium import webdriver\n",
    "from selenium.webdriver.support.ui import WebDriverWait\n",
    "from selenium.webdriver.support import expected_conditions as EC"
   ]
  },
  {
   "cell_type": "code",
   "execution_count": null,
   "metadata": {},
   "outputs": [],
   "source": [
    "client_id = 'f7d3070bc538436e9d424e6954776192'\n",
    "client_secret = '44d4c5c3a6e4458b999d02206383a16e'"
   ]
  },
  {
   "cell_type": "code",
   "execution_count": null,
   "metadata": {},
   "outputs": [],
   "source": [
    "class SpotifyAPI():\n",
    "    access_token = None\n",
    "    access_token_expires = None\n",
    "    access_token_did_expire = True\n",
    "    client_id = None\n",
    "    client_secret = None\n",
    "    did_perform_grant_flow_auth = False\n",
    "    authorize_url = \"https://accounts.spotify.com/authorize\"\n",
    "    redirected_url = None\n",
    "    \n",
    "    \n",
    "    def __init__(self, client_id, client_secret, *args, **kwargs):\n",
    "        super().__init__(*args, **kwargs)\n",
    "        self.client_id = client_id\n",
    "        self.client_secret = client_secret\n",
    "        \n",
    "    def get_client_credentials(self):\n",
    "        client_id = self.client_id\n",
    "        client_secret = self.client_secret\n",
    "        if client_secret == None or client_id == None:\n",
    "            raise Exception(\"client_secret or client_id is None\")\n",
    "        client_credentianls = f\"{client_id}:{client_secret}\"\n",
    "        client_credentials_b64 = base64.b64encode(client_credentials.encode())\n",
    "        return client_credentials_b64.decode()\n",
    "    \n",
    "    def get_token_data(self):\n",
    "        return {\n",
    "            \"grant_type\": \"client_credentials\"\n",
    "        }\n",
    "    \n",
    "    def get_token_headers(self):\n",
    "        return {\n",
    "            \"Authorization\": f\"Basic {client_credentials_b64.decode()}\"\n",
    "        }\n",
    "        \n",
    "    def perform_auth(self):\n",
    "        token_url = self.token_url\n",
    "        token_data = self.get_token_data()\n",
    "        token_headers = self.get_token_headers()\n",
    "        request = requests.post(token_url, data=token_data, headers=token_headers)\n",
    "        if request.status_code in range(200,299):\n",
    "            token_response_data = request.json()\n",
    "            current_time = datetime.datetime.now()\n",
    "            access_token = token_response_data['access_token']\n",
    "            expires_in_seconds = token_response_data['expires_in']\n",
    "            expires = current_time + datetime.timedelta(seconds=expires_in_seconds)\n",
    "            self.access_token = access_token\n",
    "            self.access_token_expires = expires\n",
    "            self.access_token_did_expire = expires < current_time\n",
    "            return True\n",
    "        return False\n",
    "    \n",
    "    def perform_auth_grant_flow(self):\n",
    "        client_id = self.client_id\n",
    "        authorize_url = self.authorize_url\n",
    "        redirect_uri = \"http://localhost:8888\"\n",
    "        authorize_url = self.authorize_url\n",
    "        scope = \"user-read-playback-position user-read-recently-played\"\n",
    "        parameters = urlencode({\"client_id\": client_id, \"redirect_uri\": redirect_uri, \"response_type\": \"token\", \n",
    "                                \"scope\": scope})\n",
    "        request = requests.get(f\"{authorize_url}?{parameters}\")\n",
    "        if request.status_code in range(200,299):\n",
    "            #webbrowser.open(f\"{authorize_url}?{parameters}\")\n",
    "            driver = webdriver.Chrome(\"/usr/lib/chromium-browser/chromedriver\")\n",
    "            driver.get(f\"{authorize_url}?{parameters}\")\n",
    "            try:\n",
    "                WebDriverWait(driver, 60).until(EC.url_contains(\"access_token\"))\n",
    "            finally:\n",
    "                url = driver.current_url\n",
    "                driver.quit();\n",
    "                return url\n",
    "        else:\n",
    "            raise Exception(\"failed to request\")\n",
    "            return None\n",
    "    \n",
    "    def set_redirected_url(self, url):\n",
    "        self.redirected_url = url\n",
    "        \n",
    "    def get_redirected_url(self):\n",
    "        return self.redirected_url\n",
    "    \n",
    "    def parse_redirected_url(self, url):\n",
    "        spotify.set_redirected_url(url)\n",
    "        query = urlparse(spotify.get_redirected_url())[5]\n",
    "        parts = query.split('&')\n",
    "    \n",
    "        if range(len(parts) != 3):\n",
    "            raise Exception(\"Access denied\")\n",
    "    \n",
    "        for i in range(len(parts)):\n",
    "            parts[i] = parts[i].split('=')[1]\n",
    "        return parts\n",
    "    \n",
    "    def set_access_token_and_expire(self, parts):\n",
    "        self.access_token = parts[0]\n",
    "        expires_in_seconds = int(parts[2])\n",
    "        current_time = datetime.datetime.now()\n",
    "        expires = current_time + datetime.timedelta(seconds=expires_in_seconds)\n",
    "        self.token_expires = expires\n",
    "        self.access_token_did_expire = expires < current_time\n",
    "    \n",
    "    def get_access_token(self):\n",
    "        return self.access_token"
   ]
  },
  {
   "cell_type": "code",
   "execution_count": null,
   "metadata": {},
   "outputs": [],
   "source": [
    "spotify = SpotifyAPI(client_id, client_secret);\n",
    "url = spotify.perform_auth_grant_flow()"
   ]
  },
  {
   "cell_type": "code",
   "execution_count": null,
   "metadata": {},
   "outputs": [],
   "source": [
    "query = spotify.parse_redirected_url(url)\n",
    "spotify.set_access_token_and_expire(query)\n",
    "print(spotify.get_access_token())"
   ]
  },
  {
   "cell_type": "code",
   "execution_count": null,
   "metadata": {},
   "outputs": [],
   "source": [
    "headers = {\n",
    "    \"Accept\": \"application/json\",\n",
    "    \"Content-Type\": \"application/json\",\n",
    "    \"Authorization\": f\"Bearer {spotify.get_access_token()}\"\n",
    "}\n",
    "endpoint = \"https://api.spotify.com/v1/me/player/currently-playing?market=PL\"\n",
    "#data = urlencode({\"\"})\n",
    "lookup_url = f\"{endpoint}\"\n",
    "\n",
    "r = requests.get(lookup_url, headers=headers)\n",
    "print(r.json())"
   ]
  },
  {
   "cell_type": "code",
   "execution_count": null,
   "metadata": {},
   "outputs": [],
   "source": []
  },
  {
   "cell_type": "code",
   "execution_count": null,
   "metadata": {},
   "outputs": [],
   "source": []
  }
 ],
 "metadata": {
  "kernelspec": {
   "display_name": "Python 3",
   "language": "python",
   "name": "python3"
  },
  "language_info": {
   "codemirror_mode": {
    "name": "ipython",
    "version": 3
   },
   "file_extension": ".py",
   "mimetype": "text/x-python",
   "name": "python",
   "nbconvert_exporter": "python",
   "pygments_lexer": "ipython3",
   "version": "3.8.5"
  }
 },
 "nbformat": 4,
 "nbformat_minor": 4
}
