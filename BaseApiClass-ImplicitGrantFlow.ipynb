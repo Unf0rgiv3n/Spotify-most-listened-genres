{
 "cells": [
  {
   "cell_type": "code",
   "execution_count": 1,
   "metadata": {},
   "outputs": [
    {
     "name": "stdout",
     "output_type": "stream",
     "text": [
      "Requirement already satisfied: requests in /home/unf0rgiv3n/anaconda3/lib/python3.8/site-packages (2.24.0)\n",
      "Requirement already satisfied: chardet<4,>=3.0.2 in /home/unf0rgiv3n/anaconda3/lib/python3.8/site-packages (from requests) (3.0.4)\n",
      "Requirement already satisfied: urllib3!=1.25.0,!=1.25.1,<1.26,>=1.21.1 in /home/unf0rgiv3n/anaconda3/lib/python3.8/site-packages (from requests) (1.25.11)\n",
      "Requirement already satisfied: certifi>=2017.4.17 in /home/unf0rgiv3n/anaconda3/lib/python3.8/site-packages (from requests) (2020.6.20)\n",
      "Requirement already satisfied: idna<3,>=2.5 in /home/unf0rgiv3n/anaconda3/lib/python3.8/site-packages (from requests) (2.10)\n",
      "Requirement already satisfied: selenium in /home/unf0rgiv3n/anaconda3/lib/python3.8/site-packages (3.141.0)\n",
      "Requirement already satisfied: urllib3 in /home/unf0rgiv3n/anaconda3/lib/python3.8/site-packages (from selenium) (1.25.11)\n"
     ]
    }
   ],
   "source": [
    "!pip install requests\n",
    "!pip install selenium"
   ]
  },
  {
   "cell_type": "code",
   "execution_count": 15,
   "metadata": {},
   "outputs": [],
   "source": [
    "import base64\n",
    "import requests\n",
    "import datetime\n",
    "from urllib.parse import urlencode\n",
    "from urllib.parse import urlparse\n",
    "import webbrowser\n",
    "from selenium import webdriver\n",
    "from selenium.webdriver.support.ui import WebDriverWait\n",
    "from selenium.webdriver.support import expected_conditions as EC\n",
    "import config\n",
    "import json"
   ]
  },
  {
   "cell_type": "code",
   "execution_count": 3,
   "metadata": {},
   "outputs": [],
   "source": [
    "client_id = config.client_id\n",
    "client_secret = config.client_secret"
   ]
  },
  {
   "cell_type": "code",
   "execution_count": 4,
   "metadata": {},
   "outputs": [],
   "source": [
    "class SpotifyAPI():\n",
    "    access_token = None\n",
    "    access_token_expires = None\n",
    "    access_token_did_expire = True\n",
    "    client_id = None\n",
    "    client_secret = None\n",
    "    did_perform_grant_flow_auth = False\n",
    "    authorize_url = \"https://accounts.spotify.com/authorize\"\n",
    "    redirected_url = None\n",
    "    scope = None\n",
    "    \n",
    "    \n",
    "    def __init__(self, client_id, client_secret, *args, **kwargs):\n",
    "        super().__init__(*args, **kwargs)\n",
    "        self.client_id = client_id\n",
    "        self.client_secret = client_secret\n",
    "        \n",
    "    def get_client_credentials(self):\n",
    "        client_id = self.client_id\n",
    "        client_secret = self.client_secret\n",
    "        if client_secret == None or client_id == None:\n",
    "            raise Exception(\"client_secret or client_id is None\")\n",
    "        client_credentianls = f\"{client_id}:{client_secret}\"\n",
    "        client_credentials_b64 = base64.b64encode(client_credentials.encode())\n",
    "        return client_credentials_b64.decode()\n",
    "    \n",
    "    def get_token_data(self):\n",
    "        return {\n",
    "            \"grant_type\": \"client_credentials\"\n",
    "        }\n",
    "    \n",
    "    def get_token_headers(self):\n",
    "        return {\n",
    "            \"Authorization\": f\"Basic {client_credentials_b64.decode()}\"\n",
    "        }\n",
    "        \n",
    "    def perform_auth(self):\n",
    "        token_url = self.token_url\n",
    "        token_data = self.get_token_data()\n",
    "        token_headers = self.get_token_headers()\n",
    "        request = requests.post(token_url, data=token_data, headers=token_headers)\n",
    "        if request.status_code in range(200,299):\n",
    "            token_response_data = request.json()\n",
    "            current_time = datetime.datetime.now()\n",
    "            access_token = token_response_data['access_token']\n",
    "            expires_in_seconds = token_response_data['expires_in']\n",
    "            expires = current_time + datetime.timedelta(seconds=expires_in_seconds)\n",
    "            self.access_token = access_token\n",
    "            self.access_token_expires = expires\n",
    "            self.access_token_did_expire = expires < current_time\n",
    "            return True\n",
    "        return False\n",
    "    \n",
    "    def perform_auth_grant_flow(self):\n",
    "        client_id = self.client_id\n",
    "        authorize_url = self.authorize_url\n",
    "        redirect_uri = \"http://localhost:8888/callback\"\n",
    "        authorize_url = self.authorize_url\n",
    "        scope = self.scope\n",
    "        if scope is None:\n",
    "            raise Exception(\"lack of scope, set permissions scope\")\n",
    "        \n",
    "        parameters = urlencode({\"client_id\": client_id, \"redirect_uri\": redirect_uri, \"response_type\": \"token\", \n",
    "                                \"scope\": scope})\n",
    "        request = requests.get(f\"{authorize_url}?{parameters}\")\n",
    "        if request.status_code in range(200,299):\n",
    "            #webbrowser.open(f\"{authorize_url}?{parameters}\")\n",
    "            driver = webdriver.Chrome(\"/usr/lib/chromium-browser/chromedriver\")\n",
    "            driver.get(f\"{authorize_url}?{parameters}\")\n",
    "            try:\n",
    "                WebDriverWait(driver, 60).until(EC.url_contains(\"access\"))\n",
    "            finally:\n",
    "                url = driver.current_url\n",
    "                driver.quit();\n",
    "                return url\n",
    "        else:\n",
    "            raise Exception(\"failed to request\")\n",
    "    \n",
    "    def set_redirected_url(self, url):\n",
    "        self.redirected_url = url\n",
    "        \n",
    "    def get_redirected_url(self):\n",
    "        return self.redirected_url\n",
    "    \n",
    "    def parse_redirected_url(self, url):\n",
    "        if 'error' in url:\n",
    "            raise Exception(\"user denied access\")\n",
    "            \n",
    "        \n",
    "        spotify.set_redirected_url(url)\n",
    "        query = urlparse(spotify.get_redirected_url())[5]\n",
    "        parts = query.split('&')\n",
    "    \n",
    "        for i in range(len(parts)):\n",
    "            parts[i] = parts[i].split('=')[1]\n",
    "        return parts\n",
    "    \n",
    "    def set_access_token_and_expire(self, parts):\n",
    "        self.access_token = parts[0]\n",
    "        expires_in_seconds = int(parts[2])\n",
    "        current_time = datetime.datetime.now()\n",
    "        expires = current_time + datetime.timedelta(seconds=expires_in_seconds)\n",
    "        self.token_expires = expires\n",
    "        self.access_token_did_expire = expires < current_time\n",
    "    \n",
    "    def get_access_token(self):\n",
    "        return self.access_token\n",
    "    \n",
    "    ### different scopes must be space separated\n",
    "    def set_scope(self, scope_string):\n",
    "        self.scope = scope_string\n",
    "        \n",
    "    def get_scope(self):\n",
    "        return self.scope"
   ]
  },
  {
   "cell_type": "code",
   "execution_count": 5,
   "metadata": {},
   "outputs": [
    {
     "name": "stdout",
     "output_type": "stream",
     "text": [
      "http://localhost:8888/callback#access_token=BQBPcqeUCQp4aX8LQpfvu2_5VOAzXd8p1ilRbw8pGcr0tm6WxSnZvsGcG5B_RJp5nRQUrVEDhKoH6bOvAMk9I1LFEwwT6tiVZxFoRamWNG63qBASthzgsxyIx5g8FIx2qttCGMTfPOdikbsR-4M2Sw0&token_type=Bearer&expires_in=3600\n"
     ]
    }
   ],
   "source": [
    "spotify = SpotifyAPI(client_id, client_secret);\n",
    "spotify.set_scope(\"user-read-currently-playing\")\n",
    "url = spotify.perform_auth_grant_flow()"
   ]
  },
  {
   "cell_type": "code",
   "execution_count": 6,
   "metadata": {},
   "outputs": [],
   "source": [
    "query = spotify.parse_redirected_url(url)\n",
    "spotify.set_access_token_and_expire(query)"
   ]
  },
  {
   "cell_type": "code",
   "execution_count": 29,
   "metadata": {},
   "outputs": [
    {
     "name": "stdout",
     "output_type": "stream",
     "text": [
      "{'timestamp': 1616585980173, 'context': {'external_urls': {'spotify': 'https://open.spotify.com/artist/4Z5u9yxbgdCldubbmMtLKN'}, 'href': 'https://api.spotify.com/v1/artists/4Z5u9yxbgdCldubbmMtLKN', 'type': 'artist', 'uri': 'spotify:artist:4Z5u9yxbgdCldubbmMtLKN'}, 'progress_ms': 307619, 'item': {'album': {'album_type': 'album', 'artists': [{'external_urls': {'spotify': 'https://open.spotify.com/artist/4Z5u9yxbgdCldubbmMtLKN'}, 'href': 'https://api.spotify.com/v1/artists/4Z5u9yxbgdCldubbmMtLKN', 'id': '4Z5u9yxbgdCldubbmMtLKN', 'name': 'Exist', 'type': 'artist', 'uri': 'spotify:artist:4Z5u9yxbgdCldubbmMtLKN'}], 'external_urls': {'spotify': 'https://open.spotify.com/album/4Ygu5x67eMsDYIqfA4vflU'}, 'href': 'https://api.spotify.com/v1/albums/4Ygu5x67eMsDYIqfA4vflU', 'id': '4Ygu5x67eMsDYIqfA4vflU', 'images': [{'height': 640, 'url': 'https://i.scdn.co/image/ab67616d0000b2739d64531a6b3b1ea47cf93684', 'width': 640}, {'height': 300, 'url': 'https://i.scdn.co/image/ab67616d00001e029d64531a6b3b1ea47cf93684', 'width': 300}, {'height': 64, 'url': 'https://i.scdn.co/image/ab67616d000048519d64531a6b3b1ea47cf93684', 'width': 64}], 'name': 'In The Void We Last', 'release_date': '2021-02-12', 'release_date_precision': 'day', 'total_tracks': 7, 'type': 'album', 'uri': 'spotify:album:4Ygu5x67eMsDYIqfA4vflU'}, 'artists': [{'external_urls': {'spotify': 'https://open.spotify.com/artist/4Z5u9yxbgdCldubbmMtLKN'}, 'href': 'https://api.spotify.com/v1/artists/4Z5u9yxbgdCldubbmMtLKN', 'id': '4Z5u9yxbgdCldubbmMtLKN', 'name': 'Exist', 'type': 'artist', 'uri': 'spotify:artist:4Z5u9yxbgdCldubbmMtLKN'}], 'disc_number': 1, 'duration_ms': 409217, 'explicit': False, 'external_ids': {'isrc': 'SE5BU2199356'}, 'external_urls': {'spotify': 'https://open.spotify.com/track/2USM8w7OpAvfLBURekhpJx'}, 'href': 'https://api.spotify.com/v1/tracks/2USM8w7OpAvfLBURekhpJx', 'id': '2USM8w7OpAvfLBURekhpJx', 'is_local': False, 'is_playable': True, 'name': 'In The Void We Last', 'popularity': 7, 'preview_url': 'https://p.scdn.co/mp3-preview/934462a844c00def2bcb099845e609ca393b3518?cid=fe905339a12b410788d97cc560184229', 'track_number': 5, 'type': 'track', 'uri': 'spotify:track:2USM8w7OpAvfLBURekhpJx'}, 'currently_playing_type': 'track', 'actions': {'disallows': {'resuming': True}}, 'is_playing': True}\n",
      "In The Void We Last\n"
     ]
    }
   ],
   "source": [
    "headers = {\n",
    "    \"Accept\": \"application/json\",\n",
    "    \"Content-Type\": \"application/json\",\n",
    "    \"Authorization\": f\"Bearer {spotify.get_access_token()}\"\n",
    "}\n",
    "endpoint = \"https://api.spotify.com/v1/me/player/currently-playing?market=PL\"\n",
    "#data = urlencode({\"\"})\n",
    "lookup_url = f\"{endpoint}\"\n",
    "\n",
    "r = requests.get(lookup_url, headers=headers)\n",
    "print(r.json())\n",
    "\n",
    "print(r.json()['item']['name'])"
   ]
  },
  {
   "cell_type": "code",
   "execution_count": null,
   "metadata": {},
   "outputs": [],
   "source": []
  },
  {
   "cell_type": "code",
   "execution_count": null,
   "metadata": {},
   "outputs": [],
   "source": []
  }
 ],
 "metadata": {
  "kernelspec": {
   "display_name": "Python 3",
   "language": "python",
   "name": "python3"
  },
  "language_info": {
   "codemirror_mode": {
    "name": "ipython",
    "version": 3
   },
   "file_extension": ".py",
   "mimetype": "text/x-python",
   "name": "python",
   "nbconvert_exporter": "python",
   "pygments_lexer": "ipython3",
   "version": "3.8.5"
  }
 },
 "nbformat": 4,
 "nbformat_minor": 4
}
