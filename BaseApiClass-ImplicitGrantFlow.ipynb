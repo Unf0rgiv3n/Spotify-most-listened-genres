{
 "cells": [
  {
   "cell_type": "code",
   "execution_count": 2,
   "metadata": {},
   "outputs": [
    {
     "name": "stdout",
     "output_type": "stream",
     "text": [
      "Requirement already satisfied: requests in /home/unf0rgiv3n/anaconda3/lib/python3.8/site-packages (2.24.0)\n",
      "Requirement already satisfied: idna<3,>=2.5 in /home/unf0rgiv3n/anaconda3/lib/python3.8/site-packages (from requests) (2.10)\n",
      "Requirement already satisfied: chardet<4,>=3.0.2 in /home/unf0rgiv3n/anaconda3/lib/python3.8/site-packages (from requests) (3.0.4)\n",
      "Requirement already satisfied: urllib3!=1.25.0,!=1.25.1,<1.26,>=1.21.1 in /home/unf0rgiv3n/anaconda3/lib/python3.8/site-packages (from requests) (1.25.11)\n",
      "Requirement already satisfied: certifi>=2017.4.17 in /home/unf0rgiv3n/anaconda3/lib/python3.8/site-packages (from requests) (2020.6.20)\n",
      "Requirement already satisfied: selenium in /home/unf0rgiv3n/anaconda3/lib/python3.8/site-packages (3.141.0)\n",
      "Requirement already satisfied: urllib3 in /home/unf0rgiv3n/anaconda3/lib/python3.8/site-packages (from selenium) (1.25.11)\n"
     ]
    }
   ],
   "source": [
    "!pip install requests\n",
    "!pip install selenium"
   ]
  },
  {
   "cell_type": "code",
   "execution_count": 3,
   "metadata": {},
   "outputs": [],
   "source": [
    "import base64\n",
    "import requests\n",
    "import datetime\n",
    "from urllib.parse import urlencode\n",
    "from urllib.parse import urlparse\n",
    "import webbrowser\n",
    "from selenium import webdriver\n",
    "from selenium.webdriver.support.ui import WebDriverWait\n",
    "from selenium.webdriver.support import expected_conditions as EC\n",
    "import config\n",
    "import json"
   ]
  },
  {
   "cell_type": "code",
   "execution_count": 4,
   "metadata": {},
   "outputs": [],
   "source": [
    "client_id = config.client_id\n",
    "client_secret = config.client_secret"
   ]
  },
  {
   "cell_type": "code",
   "execution_count": 71,
   "metadata": {},
   "outputs": [],
   "source": [
    "class SpotifyAPI():\n",
    "    access_token = None\n",
    "    access_token_expires = None\n",
    "    access_token_did_expire = True\n",
    "    client_id = None\n",
    "    client_secret = None\n",
    "    did_perform_grant_flow_auth = False\n",
    "    authorize_url = \"https://accounts.spotify.com/authorize\"\n",
    "    redirected_url = None\n",
    "    scope = None\n",
    "    headers = None\n",
    "    \n",
    "    \n",
    "    def __init__(self, client_id, client_secret, *args, **kwargs):\n",
    "        super().__init__(*args, **kwargs)\n",
    "        self.client_id = client_id\n",
    "        self.client_secret = client_secret\n",
    "    \n",
    "    def perform_auth_grant_flow(self):\n",
    "        client_id = self.client_id\n",
    "        authorize_url = self.authorize_url\n",
    "        redirect_uri = \"http://localhost:8888/callback\"\n",
    "        authorize_url = self.authorize_url\n",
    "        scope = self.scope\n",
    "        if scope is None:\n",
    "            raise Exception(\"lack of scope, set permissions scope\")\n",
    "        \n",
    "        parameters = urlencode({\"client_id\": client_id, \"redirect_uri\": redirect_uri, \"response_type\": \"token\", \n",
    "                                \"scope\": scope})\n",
    "        request = requests.get(f\"{authorize_url}?{parameters}\")\n",
    "        if request.status_code in range(200,299):\n",
    "            #webbrowser.open(f\"{authorize_url}?{parameters}\")\n",
    "            driver = webdriver.Chrome(\"/usr/lib/chromium-browser/chromedriver\")\n",
    "            driver.get(f\"{authorize_url}?{parameters}\")\n",
    "            try:\n",
    "                WebDriverWait(driver, 60).until(EC.url_contains(\"access\"))\n",
    "            finally:\n",
    "                url = driver.current_url\n",
    "                driver.quit();\n",
    "                return url\n",
    "        else:\n",
    "            raise Exception(\"failed to request\")\n",
    "    \n",
    "    def set_redirected_url(self, url):\n",
    "        self.redirected_url = url\n",
    "        \n",
    "    def get_redirected_url(self):\n",
    "        return self.redirected_url\n",
    "    \n",
    "    def parse_redirected_url(self, url):\n",
    "        if 'error' in url:\n",
    "            raise Exception(\"user denied access\")\n",
    "            \n",
    "        \n",
    "        spotify.set_redirected_url(url)\n",
    "        query = urlparse(spotify.get_redirected_url())[5]\n",
    "        parts = query.split('&')\n",
    "    \n",
    "        for i in range(len(parts)):\n",
    "            parts[i] = parts[i].split('=')[1]\n",
    "        return parts\n",
    "    \n",
    "    def set_access_token_and_expire(self, parts):\n",
    "        self.access_token = parts[0]\n",
    "        expires_in_seconds = int(parts[2])\n",
    "        current_time = datetime.datetime.now()\n",
    "        expires = current_time + datetime.timedelta(seconds=expires_in_seconds)\n",
    "        self.token_expires = expires\n",
    "        self.access_token_did_expire = expires < current_time\n",
    "    \n",
    "    def get_access_token(self):\n",
    "        return self.access_token\n",
    "    \n",
    "    def get_expires(self):\n",
    "        return self.token_expires\n",
    "    \n",
    "    ### different scopes must be space separated\n",
    "    def set_scope(self, scope_string):\n",
    "        self.scope = scope_string\n",
    "        \n",
    "    def get_scope(self):\n",
    "        return self.scope\n",
    "    \n",
    "    def set_headers(self, access_token):\n",
    "        self.headers = {\n",
    "            \"Accept\": \"application/json\",\n",
    "            \"Content-Type\": \"application/json\",\n",
    "            \"Authorization\": f\"Bearer {access_token}\"\n",
    "        }\n",
    "        \n",
    "    def get_headers(self):\n",
    "        return self.headers\n",
    "    \n",
    "    def get_current_user_playlists(self):\n",
    "        \n",
    "        if \"playlist-read-private\" not in self.scope:\n",
    "            raise Exception(\"didn't find playlist-read-private in scope\")\n",
    "        \n",
    "        version = \"v1\"\n",
    "        endpoint = f\"https://api.spotify.com/{version}/me/playlists\"\n",
    "        headers = self.headers\n",
    "        \n",
    "        if headers is None:\n",
    "            raise Exception(\"didn't set headers\")\n",
    "            \n",
    "        r = requests.get(endpoint, headers=headers)\n",
    "        \n",
    "        if r.status_code == 204:\n",
    "            raise Exception(\"No content in request\")\n",
    "        \n",
    "        return r.json()\n",
    "        "
   ]
  },
  {
   "cell_type": "code",
   "execution_count": 72,
   "metadata": {},
   "outputs": [],
   "source": [
    "spotify = SpotifyAPI(client_id, client_secret);\n",
    "spotify.set_scope(\"playlist-read-private\")\n",
    "url = spotify.perform_auth_grant_flow()"
   ]
  },
  {
   "cell_type": "code",
   "execution_count": 73,
   "metadata": {},
   "outputs": [],
   "source": [
    "query = spotify.parse_redirected_url(url)\n",
    "spotify.set_access_token_and_expire(query)\n",
    "spotify.set_headers(spotify.get_access_token())"
   ]
  },
  {
   "cell_type": "code",
   "execution_count": 74,
   "metadata": {},
   "outputs": [
    {
     "name": "stdout",
     "output_type": "stream",
     "text": [
      "{'href': 'https://api.spotify.com/v1/users/kuba007x/playlists?offset=0&limit=20', 'items': [{'collaborative': False, 'description': '', 'external_urls': {'spotify': 'https://open.spotify.com/playlist/2UA39JwqwiRSXHtfuGbGpk'}, 'href': 'https://api.spotify.com/v1/playlists/2UA39JwqwiRSXHtfuGbGpk', 'id': '2UA39JwqwiRSXHtfuGbGpk', 'images': [{'height': 640, 'url': 'https://mosaic.scdn.co/640/ab67616d0000b2730e33698e02004a608a15c177ab67616d0000b273937111e160868a084f3441eaab67616d0000b2739576057551af1b221acb1eb8ab67616d0000b273aeabbf974c351ca213e85abd', 'width': 640}, {'height': 300, 'url': 'https://mosaic.scdn.co/300/ab67616d0000b2730e33698e02004a608a15c177ab67616d0000b273937111e160868a084f3441eaab67616d0000b2739576057551af1b221acb1eb8ab67616d0000b273aeabbf974c351ca213e85abd', 'width': 300}, {'height': 60, 'url': 'https://mosaic.scdn.co/60/ab67616d0000b2730e33698e02004a608a15c177ab67616d0000b273937111e160868a084f3441eaab67616d0000b2739576057551af1b221acb1eb8ab67616d0000b273aeabbf974c351ca213e85abd', 'width': 60}], 'name': 'Losowe_guwn0', 'owner': {'display_name': 'Kuba Kwiatkowski', 'external_urls': {'spotify': 'https://open.spotify.com/user/kuba007x'}, 'href': 'https://api.spotify.com/v1/users/kuba007x', 'id': 'kuba007x', 'type': 'user', 'uri': 'spotify:user:kuba007x'}, 'primary_color': None, 'public': False, 'snapshot_id': 'OSxjNzgzNjZmYTY5MDgxNTdhMmM1MDA5YWFkYjM3ZDQ4NjQ0YmRmMDMx', 'tracks': {'href': 'https://api.spotify.com/v1/playlists/2UA39JwqwiRSXHtfuGbGpk/tracks', 'total': 8}, 'type': 'playlist', 'uri': 'spotify:playlist:2UA39JwqwiRSXHtfuGbGpk'}, {'collaborative': False, 'description': 'The songs you loved most this year, all wrapped up.', 'external_urls': {'spotify': 'https://open.spotify.com/playlist/37i9dQZF1EttGlFRCrAVsG'}, 'href': 'https://api.spotify.com/v1/playlists/37i9dQZF1EttGlFRCrAVsG', 'id': '37i9dQZF1EttGlFRCrAVsG', 'images': [{'height': None, 'url': 'https://lineup-images.scdn.co/your-top-songs-2019_LARGE-en.jpg', 'width': None}], 'name': 'Your Top Songs 2019', 'owner': {'display_name': 'Spotify', 'external_urls': {'spotify': 'https://open.spotify.com/user/spotify'}, 'href': 'https://api.spotify.com/v1/users/spotify', 'id': 'spotify', 'type': 'user', 'uri': 'spotify:user:spotify'}, 'primary_color': None, 'public': False, 'snapshot_id': 'MjYyNjk2ODMsMDAwMDAwMDA2YmJjODhkZTM1ZmQ2MWJhNGJiMGNmZTE0NTJhMjE5Mw==', 'tracks': {'href': 'https://api.spotify.com/v1/playlists/37i9dQZF1EttGlFRCrAVsG/tracks', 'total': 100}, 'type': 'playlist', 'uri': 'spotify:playlist:37i9dQZF1EttGlFRCrAVsG'}, {'collaborative': False, 'description': 'The songs you loved most this year, all wrapped up.', 'external_urls': {'spotify': 'https://open.spotify.com/playlist/37i9dQZF1E9P2I7X5YoJ37'}, 'href': 'https://api.spotify.com/v1/playlists/37i9dQZF1E9P2I7X5YoJ37', 'id': '37i9dQZF1E9P2I7X5YoJ37', 'images': [{'height': None, 'url': 'https://lineup-images.scdn.co/your-top-songs-2017_LARGE-en.jpg', 'width': None}], 'name': 'Your Top Songs 2017', 'owner': {'display_name': 'Spotify', 'external_urls': {'spotify': 'https://open.spotify.com/user/spotify'}, 'href': 'https://api.spotify.com/v1/users/spotify', 'id': 'spotify', 'type': 'user', 'uri': 'spotify:user:spotify'}, 'primary_color': None, 'public': False, 'snapshot_id': 'MjUxODI4MzAsMDAwMDAwMDBkMTEwMjE4OWNiMGRkMzA5ZDU2ZDZkMmZjMjhhZjAyNA==', 'tracks': {'href': 'https://api.spotify.com/v1/playlists/37i9dQZF1E9P2I7X5YoJ37/tracks', 'total': 37}, 'type': 'playlist', 'uri': 'spotify:playlist:37i9dQZF1E9P2I7X5YoJ37'}, {'collaborative': False, 'description': 'The songs you loved most this year, all wrapped up.', 'external_urls': {'spotify': 'https://open.spotify.com/playlist/37i9dQZF1EjniAoe8LUcSU'}, 'href': 'https://api.spotify.com/v1/playlists/37i9dQZF1EjniAoe8LUcSU', 'id': '37i9dQZF1EjniAoe8LUcSU', 'images': [{'height': None, 'url': 'https://lineup-images.scdn.co/your-top-songs-2018_LARGE-en.jpg', 'width': None}], 'name': 'Your Top Songs 2018', 'owner': {'display_name': 'Spotify', 'external_urls': {'spotify': 'https://open.spotify.com/user/spotify'}, 'href': 'https://api.spotify.com/v1/users/spotify', 'id': 'spotify', 'type': 'user', 'uri': 'spotify:user:spotify'}, 'primary_color': None, 'public': False, 'snapshot_id': 'MjU3NjA5MzksMDAwMDAwMDA5NzI2OWM1MzQzMjljYzMzYjgzZmYwYjNmZWNlMzU5Zg==', 'tracks': {'href': 'https://api.spotify.com/v1/playlists/37i9dQZF1EjniAoe8LUcSU/tracks', 'total': 100}, 'type': 'playlist', 'uri': 'spotify:playlist:37i9dQZF1EjniAoe8LUcSU'}, {'collaborative': False, 'description': '', 'external_urls': {'spotify': 'https://open.spotify.com/playlist/63VZkiWGeT9aBwmSZtpymg'}, 'href': 'https://api.spotify.com/v1/playlists/63VZkiWGeT9aBwmSZtpymg', 'id': '63VZkiWGeT9aBwmSZtpymg', 'images': [{'height': None, 'url': 'https://i.scdn.co/image/ab67706c0000bebb581d283fd8137f5044691ce3', 'width': None}], 'name': 'bones good songs', 'owner': {'display_name': 'Kuba Kwiatkowski', 'external_urls': {'spotify': 'https://open.spotify.com/user/kuba007x'}, 'href': 'https://api.spotify.com/v1/users/kuba007x', 'id': 'kuba007x', 'type': 'user', 'uri': 'spotify:user:kuba007x'}, 'primary_color': None, 'public': False, 'snapshot_id': 'MjQsNzZmYjVjMDM3MGI0YTE2OTY3NTk5OTQzYzhlOTA0MzY5ODZlZTRkNg==', 'tracks': {'href': 'https://api.spotify.com/v1/playlists/63VZkiWGeT9aBwmSZtpymg/tracks', 'total': 19}, 'type': 'playlist', 'uri': 'spotify:playlist:63VZkiWGeT9aBwmSZtpymg'}, {'collaborative': False, 'description': 'The songs you loved most this year, all wrapped up.', 'external_urls': {'spotify': 'https://open.spotify.com/playlist/37i9dQZF1ELZchLZzCHvOS'}, 'href': 'https://api.spotify.com/v1/playlists/37i9dQZF1ELZchLZzCHvOS', 'id': '37i9dQZF1ELZchLZzCHvOS', 'images': [{'height': None, 'url': 'https://lineup-images.scdn.co/wrapped-2020-top100_LARGE-en.jpg', 'width': None}], 'name': 'Your Top Songs 2020', 'owner': {'display_name': 'Spotify', 'external_urls': {'spotify': 'https://open.spotify.com/user/spotify'}, 'href': 'https://api.spotify.com/v1/users/spotify', 'id': 'spotify', 'type': 'user', 'uri': 'spotify:user:spotify'}, 'primary_color': None, 'public': False, 'snapshot_id': 'MjY3NzQ2MzgsMDAwMDAwMDBlYjk5Y2VlNjliYzI2ZTRkYzA1ZTE4MmRmYmJmNDBiMQ==', 'tracks': {'href': 'https://api.spotify.com/v1/playlists/37i9dQZF1ELZchLZzCHvOS/tracks', 'total': 100}, 'type': 'playlist', 'uri': 'spotify:playlist:37i9dQZF1ELZchLZzCHvOS'}, {'collaborative': False, 'description': 'bones please put TheDayYouLeaveThisPlanetNobodyWillNotice on spotify', 'external_urls': {'spotify': 'https://open.spotify.com/playlist/5Q3z2p5TmCEdiGOW45VZnZ'}, 'href': 'https://api.spotify.com/v1/playlists/5Q3z2p5TmCEdiGOW45VZnZ', 'id': '5Q3z2p5TmCEdiGOW45VZnZ', 'images': [{'height': None, 'url': 'https://i.scdn.co/image/ab67706c0000bebbff28c3a068d009b62552267f', 'width': None}], 'name': 'BONES best songs', 'owner': {'display_name': 'mickeysourc', 'external_urls': {'spotify': 'https://open.spotify.com/user/mickeysourc'}, 'href': 'https://api.spotify.com/v1/users/mickeysourc', 'id': 'mickeysourc', 'type': 'user', 'uri': 'spotify:user:mickeysourc'}, 'primary_color': None, 'public': False, 'snapshot_id': 'NDUsZjcxMTcxMzIwN2I3NDY1MjhkNTVjYjhmNDljNjM2YjI0ZTFlZDQxNQ==', 'tracks': {'href': 'https://api.spotify.com/v1/playlists/5Q3z2p5TmCEdiGOW45VZnZ/tracks', 'total': 26}, 'type': 'playlist', 'uri': 'spotify:playlist:5Q3z2p5TmCEdiGOW45VZnZ'}, {'collaborative': False, 'description': '', 'external_urls': {'spotify': 'https://open.spotify.com/playlist/2cig4VycUu3V1FLotxciXE'}, 'href': 'https://api.spotify.com/v1/playlists/2cig4VycUu3V1FLotxciXE', 'id': '2cig4VycUu3V1FLotxciXE', 'images': [{'height': 640, 'url': 'https://mosaic.scdn.co/640/ab67616d0000b273005f9cbd11f91649ee093ff6ab67616d0000b2734958dc3c8e7aa7db22f55af3ab67616d0000b273be56177c667eca5074231bc5ab67616d0000b273c73bd9b0e34b067d7d3bd7b9', 'width': 640}, {'height': 300, 'url': 'https://mosaic.scdn.co/300/ab67616d0000b273005f9cbd11f91649ee093ff6ab67616d0000b2734958dc3c8e7aa7db22f55af3ab67616d0000b273be56177c667eca5074231bc5ab67616d0000b273c73bd9b0e34b067d7d3bd7b9', 'width': 300}, {'height': 60, 'url': 'https://mosaic.scdn.co/60/ab67616d0000b273005f9cbd11f91649ee093ff6ab67616d0000b2734958dc3c8e7aa7db22f55af3ab67616d0000b273be56177c667eca5074231bc5ab67616d0000b273c73bd9b0e34b067d7d3bd7b9', 'width': 60}], 'name': 'Switchblades', 'owner': {'display_name': 'geo_lomas17', 'external_urls': {'spotify': 'https://open.spotify.com/user/geo_lomas17'}, 'href': 'https://api.spotify.com/v1/users/geo_lomas17', 'id': 'geo_lomas17', 'type': 'user', 'uri': 'spotify:user:geo_lomas17'}, 'primary_color': None, 'public': True, 'snapshot_id': 'MjQ3LGVhMjIxNDcwMGQxMDQ4ZmExYjhjZmQ1MjI3ZTFkNjhmZjdlYWY0NzM=', 'tracks': {'href': 'https://api.spotify.com/v1/playlists/2cig4VycUu3V1FLotxciXE/tracks', 'total': 129}, 'type': 'playlist', 'uri': 'spotify:playlist:2cig4VycUu3V1FLotxciXE'}, {'collaborative': False, 'description': '', 'external_urls': {'spotify': 'https://open.spotify.com/playlist/0XJDyY2UMcTnZZwRCaAWV4'}, 'href': 'https://api.spotify.com/v1/playlists/0XJDyY2UMcTnZZwRCaAWV4', 'id': '0XJDyY2UMcTnZZwRCaAWV4', 'images': [{'height': 640, 'url': 'https://mosaic.scdn.co/640/ab67616d0000b2735c71897588f185bcbdb4dcb6ab67616d0000b273668a1a1e508d6406daa0179aab67616d0000b2739755467e9ad22eba5bf76cc1ab67616d0000b273be19efaa62b92cb52e3892ff', 'width': 640}, {'height': 300, 'url': 'https://mosaic.scdn.co/300/ab67616d0000b2735c71897588f185bcbdb4dcb6ab67616d0000b273668a1a1e508d6406daa0179aab67616d0000b2739755467e9ad22eba5bf76cc1ab67616d0000b273be19efaa62b92cb52e3892ff', 'width': 300}, {'height': 60, 'url': 'https://mosaic.scdn.co/60/ab67616d0000b2735c71897588f185bcbdb4dcb6ab67616d0000b273668a1a1e508d6406daa0179aab67616d0000b2739755467e9ad22eba5bf76cc1ab67616d0000b273be19efaa62b92cb52e3892ff', 'width': 60}], 'name': '', 'owner': {'display_name': 'Festival Bangers', 'external_urls': {'spotify': 'https://open.spotify.com/user/gyi63p24mwr9rgd7vxy9ik1w9'}, 'href': 'https://api.spotify.com/v1/users/gyi63p24mwr9rgd7vxy9ik1w9', 'id': 'gyi63p24mwr9rgd7vxy9ik1w9', 'type': 'user', 'uri': 'spotify:user:gyi63p24mwr9rgd7vxy9ik1w9'}, 'primary_color': None, 'public': False, 'snapshot_id': 'MjEzMSwyNTIzOGUwMTU1MDBlMjNlNmMwMDM2NzdmOTMyNTYzNTJhYThlYzI5', 'tracks': {'href': 'https://api.spotify.com/v1/playlists/0XJDyY2UMcTnZZwRCaAWV4/tracks', 'total': 23}, 'type': 'playlist', 'uri': 'spotify:playlist:0XJDyY2UMcTnZZwRCaAWV4'}, {'collaborative': False, 'description': 'Over 60h nightdrive music ฅ^•ﻌ•^ฅ ', 'external_urls': {'spotify': 'https://open.spotify.com/playlist/0ZBb59skaWIDwJHPFDV92a'}, 'href': 'https://api.spotify.com/v1/playlists/0ZBb59skaWIDwJHPFDV92a', 'id': '0ZBb59skaWIDwJHPFDV92a', 'images': [{'height': None, 'url': 'https://i.scdn.co/image/ab67706c0000bebbcf972f9039fc6303779dc447', 'width': None}], 'name': 'Nightdrive', 'owner': {'display_name': 'Atreyu', 'external_urls': {'spotify': 'https://open.spotify.com/user/21cj2wk6vjq7j7436ljtp6pvy'}, 'href': 'https://api.spotify.com/v1/users/21cj2wk6vjq7j7436ljtp6pvy', 'id': '21cj2wk6vjq7j7436ljtp6pvy', 'type': 'user', 'uri': 'spotify:user:21cj2wk6vjq7j7436ljtp6pvy'}, 'primary_color': None, 'public': True, 'snapshot_id': 'MTExMCwyZTVmZDk3ZTMyZTMyODY0Y2RmNWE3NTljODVkOGU2ODU4YTNlOTkx', 'tracks': {'href': 'https://api.spotify.com/v1/playlists/0ZBb59skaWIDwJHPFDV92a/tracks', 'total': 955}, 'type': 'playlist', 'uri': 'spotify:playlist:0ZBb59skaWIDwJHPFDV92a'}, {'collaborative': False, 'description': '', 'external_urls': {'spotify': 'https://open.spotify.com/playlist/4WlYbStsVuSo4noLAL3kwX'}, 'href': 'https://api.spotify.com/v1/playlists/4WlYbStsVuSo4noLAL3kwX', 'id': '4WlYbStsVuSo4noLAL3kwX', 'images': [{'height': 640, 'url': 'https://mosaic.scdn.co/640/ab67616d0000b2730e33698e02004a608a15c177ab67616d0000b273308e9a171f0591e5944f5987ab67616d0000b27364ff0370d3f40740a244ca5cab67616d0000b273cd4fd64305f65f96208780fb', 'width': 640}, {'height': 300, 'url': 'https://mosaic.scdn.co/300/ab67616d0000b2730e33698e02004a608a15c177ab67616d0000b273308e9a171f0591e5944f5987ab67616d0000b27364ff0370d3f40740a244ca5cab67616d0000b273cd4fd64305f65f96208780fb', 'width': 300}, {'height': 60, 'url': 'https://mosaic.scdn.co/60/ab67616d0000b2730e33698e02004a608a15c177ab67616d0000b273308e9a171f0591e5944f5987ab67616d0000b27364ff0370d3f40740a244ca5cab67616d0000b273cd4fd64305f65f96208780fb', 'width': 60}], 'name': 'rapki', 'owner': {'display_name': 'Kuba Kwiatkowski', 'external_urls': {'spotify': 'https://open.spotify.com/user/kuba007x'}, 'href': 'https://api.spotify.com/v1/users/kuba007x', 'id': 'kuba007x', 'type': 'user', 'uri': 'spotify:user:kuba007x'}, 'primary_color': None, 'public': False, 'snapshot_id': 'MTUsYTdhNTZmMTYxMDhlZDJmMjk2ZWEwYjNjMDk1NWFmOTY3M2Y1ODJkMA==', 'tracks': {'href': 'https://api.spotify.com/v1/playlists/4WlYbStsVuSo4noLAL3kwX/tracks', 'total': 14}, 'type': 'playlist', 'uri': 'spotify:playlist:4WlYbStsVuSo4noLAL3kwX'}, {'collaborative': False, 'description': 'Największe hity polskiego hip-hopu ostatnich kilku lat.', 'external_urls': {'spotify': 'https://open.spotify.com/playlist/37i9dQZF1DWXo9v62EXLlM'}, 'href': 'https://api.spotify.com/v1/playlists/37i9dQZF1DWXo9v62EXLlM', 'id': '37i9dQZF1DWXo9v62EXLlM', 'images': [{'height': None, 'url': 'https://i.scdn.co/image/ab67706f0000000338788eafdf0da29f7e94f281', 'width': None}], 'name': 'Rap sztosy', 'owner': {'display_name': 'Spotify', 'external_urls': {'spotify': 'https://open.spotify.com/user/spotify'}, 'href': 'https://api.spotify.com/v1/users/spotify', 'id': 'spotify', 'type': 'user', 'uri': 'spotify:user:spotify'}, 'primary_color': None, 'public': False, 'snapshot_id': 'MTYxNjYwMTk4MSwwMDAwMDAwMGQ0MWQ4Y2Q5OGYwMGIyMDRlOTgwMDk5OGVjZjg0Mjdl', 'tracks': {'href': 'https://api.spotify.com/v1/playlists/37i9dQZF1DWXo9v62EXLlM/tracks', 'total': 70}, 'type': 'playlist', 'uri': 'spotify:playlist:37i9dQZF1DWXo9v62EXLlM'}, {'collaborative': False, 'description': '', 'external_urls': {'spotify': 'https://open.spotify.com/playlist/7abUEbx189e8lj57YkhMn3'}, 'href': 'https://api.spotify.com/v1/playlists/7abUEbx189e8lj57YkhMn3', 'id': '7abUEbx189e8lj57YkhMn3', 'images': [{'height': 640, 'url': 'https://i.scdn.co/image/ab67616d0000b2736260bfe55d50a26ff7bb7ce6', 'width': 640}], 'name': 'klasyczna', 'owner': {'display_name': 'Kuba Kwiatkowski', 'external_urls': {'spotify': 'https://open.spotify.com/user/kuba007x'}, 'href': 'https://api.spotify.com/v1/users/kuba007x', 'id': 'kuba007x', 'type': 'user', 'uri': 'spotify:user:kuba007x'}, 'primary_color': None, 'public': False, 'snapshot_id': 'MywxNTNkMjY3NzAwODZkYjk0ODJkN2YwY2EyNjAyNTZmNjdlZWQwODMy', 'tracks': {'href': 'https://api.spotify.com/v1/playlists/7abUEbx189e8lj57YkhMn3/tracks', 'total': 1}, 'type': 'playlist', 'uri': 'spotify:playlist:7abUEbx189e8lj57YkhMn3'}, {'collaborative': False, 'description': 'A selection of the greatest classical tunes; the perfect starting point for anyone who\\'s keen to explore the world of <a href=\"spotify:genre:classical\">classical</a> music.', 'external_urls': {'spotify': 'https://open.spotify.com/playlist/37i9dQZF1DWWEJlAGA9gs0'}, 'href': 'https://api.spotify.com/v1/playlists/37i9dQZF1DWWEJlAGA9gs0', 'id': '37i9dQZF1DWWEJlAGA9gs0', 'images': [{'height': None, 'url': 'https://i.scdn.co/image/ab67706f000000033e0130fcd5d106f1402b4707', 'width': None}], 'name': 'Classical Essentials', 'owner': {'display_name': 'Spotify', 'external_urls': {'spotify': 'https://open.spotify.com/user/spotify'}, 'href': 'https://api.spotify.com/v1/users/spotify', 'id': 'spotify', 'type': 'user', 'uri': 'spotify:user:spotify'}, 'primary_color': None, 'public': False, 'snapshot_id': 'MTYwMTYxMTMyMCwwMDAwMDA1MzAwMDAwMTc0ZTc3OTRiYjMwMDAwMDE2ZDE1MGU5NWQ2', 'tracks': {'href': 'https://api.spotify.com/v1/playlists/37i9dQZF1DWWEJlAGA9gs0/tracks', 'total': 172}, 'type': 'playlist', 'uri': 'spotify:playlist:37i9dQZF1DWWEJlAGA9gs0'}, {'collaborative': False, 'description': \"Like the old school sound of metal? Then you'll love this playlist!\", 'external_urls': {'spotify': 'https://open.spotify.com/playlist/37i9dQZF1DX2LTcinqsO68'}, 'href': 'https://api.spotify.com/v1/playlists/37i9dQZF1DX2LTcinqsO68', 'id': '37i9dQZF1DX2LTcinqsO68', 'images': [{'height': None, 'url': 'https://i.scdn.co/image/ab67706f0000000349919fc4c56e03ad1ccdf761', 'width': None}], 'name': 'Old School Metal', 'owner': {'display_name': 'Spotify', 'external_urls': {'spotify': 'https://open.spotify.com/user/spotify'}, 'href': 'https://api.spotify.com/v1/users/spotify', 'id': 'spotify', 'type': 'user', 'uri': 'spotify:user:spotify'}, 'primary_color': None, 'public': True, 'snapshot_id': 'MTYxNjYwMTk4MSwwMDAwMDAwMGQ0MWQ4Y2Q5OGYwMGIyMDRlOTgwMDk5OGVjZjg0Mjdl', 'tracks': {'href': 'https://api.spotify.com/v1/playlists/37i9dQZF1DX2LTcinqsO68/tracks', 'total': 140}, 'type': 'playlist', 'uri': 'spotify:playlist:37i9dQZF1DX2LTcinqsO68'}, {'collaborative': False, 'description': '', 'external_urls': {'spotify': 'https://open.spotify.com/playlist/2FSTEf54NbWRZoXFKmxuIj'}, 'href': 'https://api.spotify.com/v1/playlists/2FSTEf54NbWRZoXFKmxuIj', 'id': '2FSTEf54NbWRZoXFKmxuIj', 'images': [{'height': 640, 'url': 'https://mosaic.scdn.co/640/ab67616d0000b2733469ef94acfa666fde83dec5ab67616d0000b273b1aa6ce113de70498eb295daab67616d0000b273b414c63fb435b622238c15edab67616d0000b273d93009c68f15051a612e6cf1', 'width': 640}, {'height': 300, 'url': 'https://mosaic.scdn.co/300/ab67616d0000b2733469ef94acfa666fde83dec5ab67616d0000b273b1aa6ce113de70498eb295daab67616d0000b273b414c63fb435b622238c15edab67616d0000b273d93009c68f15051a612e6cf1', 'width': 300}, {'height': 60, 'url': 'https://mosaic.scdn.co/60/ab67616d0000b2733469ef94acfa666fde83dec5ab67616d0000b273b1aa6ce113de70498eb295daab67616d0000b273b414c63fb435b622238c15edab67616d0000b273d93009c68f15051a612e6cf1', 'width': 60}], 'name': 'old school metal my version', 'owner': {'display_name': 'Kuba Kwiatkowski', 'external_urls': {'spotify': 'https://open.spotify.com/user/kuba007x'}, 'href': 'https://api.spotify.com/v1/users/kuba007x', 'id': 'kuba007x', 'type': 'user', 'uri': 'spotify:user:kuba007x'}, 'primary_color': None, 'public': False, 'snapshot_id': 'NjksYjY2ZmEyM2Y3YzZlOTY3NDU1ODMwMDk3YjlmMzcwMTYwMjVmMDY0Ng==', 'tracks': {'href': 'https://api.spotify.com/v1/playlists/2FSTEf54NbWRZoXFKmxuIj/tracks', 'total': 68}, 'type': 'playlist', 'uri': 'spotify:playlist:2FSTEf54NbWRZoXFKmxuIj'}, {'collaborative': False, 'description': '', 'external_urls': {'spotify': 'https://open.spotify.com/playlist/01v0GcDMIML985JQs5QwgZ'}, 'href': 'https://api.spotify.com/v1/playlists/01v0GcDMIML985JQs5QwgZ', 'id': '01v0GcDMIML985JQs5QwgZ', 'images': [{'height': 640, 'url': 'https://mosaic.scdn.co/640/ab67616d0000b27327c8e79e48a7b9b7c9ed6ba0ab67616d0000b2732df329bfcee1cbf47dfc7032ab67616d0000b2738fc06398d8852596d4981252ab67616d0000b273be9fa5a89479b6af481938a0', 'width': 640}, {'height': 300, 'url': 'https://mosaic.scdn.co/300/ab67616d0000b27327c8e79e48a7b9b7c9ed6ba0ab67616d0000b2732df329bfcee1cbf47dfc7032ab67616d0000b2738fc06398d8852596d4981252ab67616d0000b273be9fa5a89479b6af481938a0', 'width': 300}, {'height': 60, 'url': 'https://mosaic.scdn.co/60/ab67616d0000b27327c8e79e48a7b9b7c9ed6ba0ab67616d0000b2732df329bfcee1cbf47dfc7032ab67616d0000b2738fc06398d8852596d4981252ab67616d0000b273be9fa5a89479b6af481938a0', 'width': 60}], 'name': 'Megadeth', 'owner': {'display_name': 'Kuba Kwiatkowski', 'external_urls': {'spotify': 'https://open.spotify.com/user/kuba007x'}, 'href': 'https://api.spotify.com/v1/users/kuba007x', 'id': 'kuba007x', 'type': 'user', 'uri': 'spotify:user:kuba007x'}, 'primary_color': None, 'public': False, 'snapshot_id': 'MTAsZGJhMGJhMjBmMjIyNTliMTliMWY0NjM5NDQ4ZWU1NzMyOGQyMDk0Nw==', 'tracks': {'href': 'https://api.spotify.com/v1/playlists/01v0GcDMIML985JQs5QwgZ/tracks', 'total': 8}, 'type': 'playlist', 'uri': 'spotify:playlist:01v0GcDMIML985JQs5QwgZ'}, {'collaborative': False, 'description': '', 'external_urls': {'spotify': 'https://open.spotify.com/playlist/4nsNXKrmW9dhFeONFLaEe5'}, 'href': 'https://api.spotify.com/v1/playlists/4nsNXKrmW9dhFeONFLaEe5', 'id': '4nsNXKrmW9dhFeONFLaEe5', 'images': [{'height': 640, 'url': 'https://mosaic.scdn.co/640/ab67616d0000b2732277d1a849a63c7075ec38ffab67616d0000b2735c29a88ba5341ca428f0c322ab67616d0000b2739683e5d7361bb80bfb00f46dab67616d0000b273b7ec2b4b9c76b3b737990a42', 'width': 640}, {'height': 300, 'url': 'https://mosaic.scdn.co/300/ab67616d0000b2732277d1a849a63c7075ec38ffab67616d0000b2735c29a88ba5341ca428f0c322ab67616d0000b2739683e5d7361bb80bfb00f46dab67616d0000b273b7ec2b4b9c76b3b737990a42', 'width': 300}, {'height': 60, 'url': 'https://mosaic.scdn.co/60/ab67616d0000b2732277d1a849a63c7075ec38ffab67616d0000b2735c29a88ba5341ca428f0c322ab67616d0000b2739683e5d7361bb80bfb00f46dab67616d0000b273b7ec2b4b9c76b3b737990a42', 'width': 60}], 'name': 'inny metal', 'owner': {'display_name': 'Kuba Kwiatkowski', 'external_urls': {'spotify': 'https://open.spotify.com/user/kuba007x'}, 'href': 'https://api.spotify.com/v1/users/kuba007x', 'id': 'kuba007x', 'type': 'user', 'uri': 'spotify:user:kuba007x'}, 'primary_color': None, 'public': False, 'snapshot_id': 'OSwxNTY1NGI0YjVjZDFkOTU4YTYyOGY3OGQ4MmYxZjY5ZmVhNWY3MGQ5', 'tracks': {'href': 'https://api.spotify.com/v1/playlists/4nsNXKrmW9dhFeONFLaEe5/tracks', 'total': 8}, 'type': 'playlist', 'uri': 'spotify:playlist:4nsNXKrmW9dhFeONFLaEe5'}, {'collaborative': False, 'description': '', 'external_urls': {'spotify': 'https://open.spotify.com/playlist/5Yxx7cxBOoBmeMaMsjyS8C'}, 'href': 'https://api.spotify.com/v1/playlists/5Yxx7cxBOoBmeMaMsjyS8C', 'id': '5Yxx7cxBOoBmeMaMsjyS8C', 'images': [{'height': 640, 'url': 'https://mosaic.scdn.co/640/ab67616d0000b273668e3aca3167e6e569a9aa20ab67616d0000b2737c05e69390ab7c628a83cee7ab67616d0000b2739ad3e9959f48d513886b8933ab67616d0000b273cf84c5b276431b473e924802', 'width': 640}, {'height': 300, 'url': 'https://mosaic.scdn.co/300/ab67616d0000b273668e3aca3167e6e569a9aa20ab67616d0000b2737c05e69390ab7c628a83cee7ab67616d0000b2739ad3e9959f48d513886b8933ab67616d0000b273cf84c5b276431b473e924802', 'width': 300}, {'height': 60, 'url': 'https://mosaic.scdn.co/60/ab67616d0000b273668e3aca3167e6e569a9aa20ab67616d0000b2737c05e69390ab7c628a83cee7ab67616d0000b2739ad3e9959f48d513886b8933ab67616d0000b273cf84c5b276431b473e924802', 'width': 60}], 'name': 'Metallica', 'owner': {'display_name': 'Kuba Kwiatkowski', 'external_urls': {'spotify': 'https://open.spotify.com/user/kuba007x'}, 'href': 'https://api.spotify.com/v1/users/kuba007x', 'id': 'kuba007x', 'type': 'user', 'uri': 'spotify:user:kuba007x'}, 'primary_color': None, 'public': False, 'snapshot_id': 'MzQsMDhlMTg2NWY1ZTllODliYmM4N2I3NzdkZTk1MDFjMmFjYjc4MzFjMA==', 'tracks': {'href': 'https://api.spotify.com/v1/playlists/5Yxx7cxBOoBmeMaMsjyS8C/tracks', 'total': 32}, 'type': 'playlist', 'uri': 'spotify:playlist:5Yxx7cxBOoBmeMaMsjyS8C'}, {'collaborative': False, 'description': '', 'external_urls': {'spotify': 'https://open.spotify.com/playlist/4blr5yafyFPhdyREKHQ4go'}, 'href': 'https://api.spotify.com/v1/playlists/4blr5yafyFPhdyREKHQ4go', 'id': '4blr5yafyFPhdyREKHQ4go', 'images': [{'height': None, 'url': 'https://i.scdn.co/image/ab67706c0000bebb207495e29db4235febb6b8d9', 'width': None}], 'name': 'Night Driving', 'owner': {'display_name': 'Kuba Kwiatkowski', 'external_urls': {'spotify': 'https://open.spotify.com/user/kuba007x'}, 'href': 'https://api.spotify.com/v1/users/kuba007x', 'id': 'kuba007x', 'type': 'user', 'uri': 'spotify:user:kuba007x'}, 'primary_color': None, 'public': False, 'snapshot_id': 'OSw0YTg4YWEzZDBhYjUzMDcxOTY1ZWFiZDEwNDNhMzk4ZThiNGMzYzk5', 'tracks': {'href': 'https://api.spotify.com/v1/playlists/4blr5yafyFPhdyREKHQ4go/tracks', 'total': 6}, 'type': 'playlist', 'uri': 'spotify:playlist:4blr5yafyFPhdyREKHQ4go'}], 'limit': 20, 'next': 'https://api.spotify.com/v1/users/kuba007x/playlists?offset=20&limit=20', 'offset': 0, 'previous': None, 'total': 26}\n"
     ]
    }
   ],
   "source": [
    "content = spotify.get_current_user_playlists();\n",
    "print(content)\n",
    "\n",
    "# print(r.json()['item']['artists'][0]['id'])\n",
    "\n",
    "# print(\"===\")\n",
    "\n",
    "# artist_id = r.json()['item']['artists'][0]['id']\n",
    "\n",
    "# endpoint_artist = \"https://api.spotify.com/v1/artists/\"\n",
    "# artist_url = f\"{endpoint_artist}{artist_id}\"\n",
    "\n",
    "# r = requests.get(artist_url, headers=headers)\n",
    "# print(r.json()['genres'])"
   ]
  },
  {
   "cell_type": "code",
   "execution_count": 62,
   "metadata": {},
   "outputs": [
    {
     "name": "stdout",
     "output_type": "stream",
     "text": [
      "2021-03-24 17:57:21.880699\n"
     ]
    }
   ],
   "source": [
    "print(spotify.get_expires())"
   ]
  },
  {
   "cell_type": "code",
   "execution_count": null,
   "metadata": {},
   "outputs": [],
   "source": []
  }
 ],
 "metadata": {
  "kernelspec": {
   "display_name": "Python 3",
   "language": "python",
   "name": "python3"
  },
  "language_info": {
   "codemirror_mode": {
    "name": "ipython",
    "version": 3
   },
   "file_extension": ".py",
   "mimetype": "text/x-python",
   "name": "python",
   "nbconvert_exporter": "python",
   "pygments_lexer": "ipython3",
   "version": "3.8.5"
  }
 },
 "nbformat": 4,
 "nbformat_minor": 4
}
