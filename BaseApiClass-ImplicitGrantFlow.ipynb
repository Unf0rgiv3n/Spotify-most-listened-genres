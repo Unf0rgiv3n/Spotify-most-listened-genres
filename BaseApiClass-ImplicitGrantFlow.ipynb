{
 "cells": [
  {
   "cell_type": "code",
   "execution_count": 74,
   "metadata": {},
   "outputs": [
    {
     "name": "stdout",
     "output_type": "stream",
     "text": [
      "Requirement already satisfied: requests in /home/unf0rgiv3n/anaconda3/lib/python3.8/site-packages (2.24.0)\n",
      "Requirement already satisfied: idna<3,>=2.5 in /home/unf0rgiv3n/anaconda3/lib/python3.8/site-packages (from requests) (2.10)\n",
      "Requirement already satisfied: chardet<4,>=3.0.2 in /home/unf0rgiv3n/anaconda3/lib/python3.8/site-packages (from requests) (3.0.4)\n",
      "Requirement already satisfied: urllib3!=1.25.0,!=1.25.1,<1.26,>=1.21.1 in /home/unf0rgiv3n/anaconda3/lib/python3.8/site-packages (from requests) (1.25.11)\n",
      "Requirement already satisfied: certifi>=2017.4.17 in /home/unf0rgiv3n/anaconda3/lib/python3.8/site-packages (from requests) (2020.6.20)\n"
     ]
    }
   ],
   "source": [
    "!pip install requests"
   ]
  },
  {
   "cell_type": "code",
   "execution_count": 88,
   "metadata": {},
   "outputs": [],
   "source": [
    "import base64\n",
    "import requests\n",
    "import datetime\n",
    "from urllib.parse import urlencode\n",
    "from urllib.parse import urlparse\n",
    "import webbrowser"
   ]
  },
  {
   "cell_type": "code",
   "execution_count": 73,
   "metadata": {},
   "outputs": [],
   "source": [
    "client_id = 'f7d3070bc538436e9d424e6954776192'\n",
    "client_secret = '44d4c5c3a6e4458b999d02206383a16e'"
   ]
  },
  {
   "cell_type": "code",
   "execution_count": 150,
   "metadata": {},
   "outputs": [],
   "source": [
    "class SpotifyAPI():\n",
    "    access_token = None\n",
    "    access_token_expires = None\n",
    "    access_token_did_expire = True\n",
    "    client_id = None\n",
    "    client_secret = None\n",
    "    did_perform_grant_flow_auth = False\n",
    "    authorize_url = \"https://accounts.spotify.com/authorize\"\n",
    "    redirected_url = None\n",
    "    \n",
    "    \n",
    "    def __init__(self, client_id, client_secret, *args, **kwargs):\n",
    "        super().__init__(*args, **kwargs)\n",
    "        self.client_id = client_id\n",
    "        self.client_secret = client_secret\n",
    "        \n",
    "    def get_client_credentials(self):\n",
    "        client_id = self.client_id\n",
    "        client_secret = self.client_secret\n",
    "        if client_secret == None or client_id == None:\n",
    "            raise Exception(\"client_secret or client_id is None\")\n",
    "        client_credentianls = f\"{client_id}:{client_secret}\"\n",
    "        client_credentials_b64 = base64.b64encode(client_credentials.encode())\n",
    "        return client_credentials_b64.decode()\n",
    "    \n",
    "    def get_token_data(self):\n",
    "        return {\n",
    "            \"grant_type\": \"client_credentials\"\n",
    "        }\n",
    "    \n",
    "    def get_token_headers(self):\n",
    "        return {\n",
    "            \"Authorization\": f\"Basic {client_credentials_b64.decode()}\"\n",
    "        }\n",
    "        \n",
    "    def perform_auth(self):\n",
    "        token_url = self.token_url\n",
    "        token_data = self.get_token_data()\n",
    "        token_headers = self.get_token_headers()\n",
    "        request = requests.post(token_url, data=token_data, headers=token_headers)\n",
    "        if request.status_code in range(200,299):\n",
    "            token_response_data = request.json()\n",
    "            current_time = datetime.datetime.now()\n",
    "            access_token = token_response_data['access_token']\n",
    "            expires_in_seconds = token_response_data['expires_in']\n",
    "            expires = current_time + datetime.timedelta(seconds=expires_in_seconds)\n",
    "            self.access_token = access_token\n",
    "            self.access_token_expires = expires\n",
    "            self.access_token_did_expire = expires < current_time\n",
    "            return True\n",
    "        return False\n",
    "    \n",
    "    def perform_auth_grant_flow(self):\n",
    "        client_id = self.client_id\n",
    "        authorize_url = self.authorize_url\n",
    "        redirect_uri = \"http://localhost:8888/notebooks\"\n",
    "        scope = \"user-read-currently-playing user-read-playback-state\"\n",
    "        authorize_url = self.authorize_url\n",
    "        paramaters = urlencode({\"client_id\": client_id, \"redirect_uri\": redirect_uri, \"response_type\": \"token\", \n",
    "                                \"scope\": scope})\n",
    "        request = requests.get(f\"{authorize_url}?{parameters}\")\n",
    "        if request.status_code in range(200,299):\n",
    "            webbrowser.open(f\"{authorize_url}?{parameters}\")\n",
    "            return True\n",
    "        else:\n",
    "            raise Exception(\"failed to request\")\n",
    "            return False\n",
    "    \n",
    "    def set_redirected_url(self, url):\n",
    "        self.redirected_url = url\n",
    "        \n",
    "    def get_redirected_url(self):\n",
    "        return self.redirected_url\n",
    "    \n",
    "    def parse_redirected_url(self, url):\n",
    "        if did_perform:\n",
    "            spotify.set_redirected_url(url)\n",
    "            query = urlparse(spotify.get_redirected_url())[5]\n",
    "            parts = query.split('&')\n",
    "    \n",
    "        if range(len(parts) != 3):\n",
    "            raise Exception(\"Access denied\")\n",
    "    \n",
    "        for i in range(len(parts)):\n",
    "            parts[i] = parts[i].split('=')[1]\n",
    "        return parts\n",
    "    \n",
    "    def set_access_token_and_expire(self, parts):\n",
    "        self.access_token = parts[0]\n",
    "        expires_in_seconds = int(parts[2])\n",
    "        current_time = datetime.datetime.now()\n",
    "        expires = current_time + datetime.timedelta(seconds=expires_in_seconds)\n",
    "        self.token_expires = expires\n",
    "        self.access_token_did_expire = expires < current_time\n",
    "    \n",
    "    def get_access_token(self):\n",
    "        return self.access_token"
   ]
  },
  {
   "cell_type": "code",
   "execution_count": 151,
   "metadata": {},
   "outputs": [],
   "source": [
    "spotify = SpotifyAPI(client_id, client_secret);\n",
    "did_perform = spotify.perform_auth_grant_flow()"
   ]
  },
  {
   "cell_type": "code",
   "execution_count": 152,
   "metadata": {},
   "outputs": [
    {
     "name": "stdout",
     "output_type": "stream",
     "text": [
      "BQBUbtaqgrlUJPpYj-0s-SUaCH1-vDeZ2klSf1CH4lRT4rradMXuDg0ab61z0yunzBCcg1DIPaKWySa0TvwN6cntkMeurWS-2QPSh_72otc1pSqIH49a7gUajA8CTBaJGWdiG2_H0c1eP7Pr77q9\n"
     ]
    }
   ],
   "source": [
    "query = spotify.parse_redirected_url('http://localhost:8888/notebooks/BaseApiClass-Copy1.ipynb#access_token=BQBUbtaqgrlUJPpYj-0s-SUaCH1-vDeZ2klSf1CH4lRT4rradMXuDg0ab61z0yunzBCcg1DIPaKWySa0TvwN6cntkMeurWS-2QPSh_72otc1pSqIH49a7gUajA8CTBaJGWdiG2_H0c1eP7Pr77q9&token_type=Bearer&expires_in=3600')\n",
    "spotify.set_access_token_and_expire(query)\n",
    "print(spotify.get_access_token())"
   ]
  },
  {
   "cell_type": "code",
   "execution_count": 153,
   "metadata": {},
   "outputs": [
    {
     "name": "stdout",
     "output_type": "stream",
     "text": [
      "{'timestamp': 1616517910728, 'context': {'external_urls': {'spotify': 'https://open.spotify.com/playlist/37i9dQZF1E36R4l1u8NIsU'}, 'href': 'https://api.spotify.com/v1/playlists/37i9dQZF1E36R4l1u8NIsU', 'type': 'playlist', 'uri': 'spotify:user:spotify:playlist:37i9dQZF1E36R4l1u8NIsU'}, 'progress_ms': 22643, 'item': {'album': {'album_type': 'album', 'artists': [{'external_urls': {'spotify': 'https://open.spotify.com/artist/2kCcBybjl3SAtIcwdWpUe3'}, 'href': 'https://api.spotify.com/v1/artists/2kCcBybjl3SAtIcwdWpUe3', 'id': '2kCcBybjl3SAtIcwdWpUe3', 'name': 'Lil Peep', 'type': 'artist', 'uri': 'spotify:artist:2kCcBybjl3SAtIcwdWpUe3'}], 'external_urls': {'spotify': 'https://open.spotify.com/album/3PGFdp8MUJ25eJjUl0O58X'}, 'href': 'https://api.spotify.com/v1/albums/3PGFdp8MUJ25eJjUl0O58X', 'id': '3PGFdp8MUJ25eJjUl0O58X', 'images': [{'height': 640, 'url': 'https://i.scdn.co/image/ab67616d0000b273e15ed14cb9cb4a9908f6cdde', 'width': 640}, {'height': 300, 'url': 'https://i.scdn.co/image/ab67616d00001e02e15ed14cb9cb4a9908f6cdde', 'width': 300}, {'height': 64, 'url': 'https://i.scdn.co/image/ab67616d00004851e15ed14cb9cb4a9908f6cdde', 'width': 64}], 'name': 'HELLBOY', 'release_date': '2020-09-25', 'release_date_precision': 'day', 'total_tracks': 16, 'type': 'album', 'uri': 'spotify:album:3PGFdp8MUJ25eJjUl0O58X'}, 'artists': [{'external_urls': {'spotify': 'https://open.spotify.com/artist/2kCcBybjl3SAtIcwdWpUe3'}, 'href': 'https://api.spotify.com/v1/artists/2kCcBybjl3SAtIcwdWpUe3', 'id': '2kCcBybjl3SAtIcwdWpUe3', 'name': 'Lil Peep', 'type': 'artist', 'uri': 'spotify:artist:2kCcBybjl3SAtIcwdWpUe3'}], 'disc_number': 1, 'duration_ms': 169800, 'explicit': True, 'external_ids': {'isrc': 'UKELY2000112'}, 'external_urls': {'spotify': 'https://open.spotify.com/track/1qINv30cwO8WCJeo4F7YTR'}, 'href': 'https://api.spotify.com/v1/tracks/1qINv30cwO8WCJeo4F7YTR', 'id': '1qINv30cwO8WCJeo4F7YTR', 'is_local': False, 'is_playable': True, 'name': 'nose ring', 'popularity': 62, 'preview_url': 'https://p.scdn.co/mp3-preview/aa29a51ad68ecb39c730f22892c447e02909c942?cid=f7d3070bc538436e9d424e6954776192', 'track_number': 12, 'type': 'track', 'uri': 'spotify:track:1qINv30cwO8WCJeo4F7YTR'}, 'currently_playing_type': 'track', 'actions': {'disallows': {'resuming': True, 'skipping_prev': True}}, 'is_playing': True}\n"
     ]
    }
   ],
   "source": [
    "headers = {\n",
    "    \"Accept\": \"application/json\",\n",
    "    \"Content-Type\": \"application/json\",\n",
    "    \"Authorization\": f\"Bearer {spotify.get_access_token()}\"\n",
    "}\n",
    "endpoint = \"https://api.spotify.com/v1/me/player/currently-playing?market=PL\"\n",
    "#data = urlencode({\"\"})\n",
    "lookup_url = f\"{endpoint}\"\n",
    "\n",
    "r = requests.get(lookup_url, headers=headers)\n",
    "print(r.json())"
   ]
  },
  {
   "cell_type": "code",
   "execution_count": null,
   "metadata": {},
   "outputs": [],
   "source": []
  },
  {
   "cell_type": "code",
   "execution_count": null,
   "metadata": {},
   "outputs": [],
   "source": []
  }
 ],
 "metadata": {
  "kernelspec": {
   "display_name": "Python 3",
   "language": "python",
   "name": "python3"
  },
  "language_info": {
   "codemirror_mode": {
    "name": "ipython",
    "version": 3
   },
   "file_extension": ".py",
   "mimetype": "text/x-python",
   "name": "python",
   "nbconvert_exporter": "python",
   "pygments_lexer": "ipython3",
   "version": "3.8.5"
  }
 },
 "nbformat": 4,
 "nbformat_minor": 4
}
