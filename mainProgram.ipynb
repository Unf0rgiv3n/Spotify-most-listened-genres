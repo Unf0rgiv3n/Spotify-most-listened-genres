{
 "cells": [
  {
   "cell_type": "code",
   "execution_count": null,
   "metadata": {},
   "outputs": [],
   "source": [
    "!pip install import-ipynb"
   ]
  },
  {
   "cell_type": "code",
   "execution_count": null,
   "metadata": {
    "scrolled": true
   },
   "outputs": [],
   "source": [
    "import import_ipynb\n",
    "import pandas as pd\n",
    "import config\n",
    "import requests\n",
    "import matplotlib.pyplot as plt\n",
    "import csv"
   ]
  },
  {
   "cell_type": "code",
   "execution_count": null,
   "metadata": {},
   "outputs": [],
   "source": [
    "import BaseApiClassImplicitGrantFlow as ba"
   ]
  },
  {
   "cell_type": "code",
   "execution_count": null,
   "metadata": {},
   "outputs": [],
   "source": [
    "client_id = config.client_id\n",
    "client_secret = config.client_secret"
   ]
  },
  {
   "cell_type": "code",
   "execution_count": null,
   "metadata": {},
   "outputs": [],
   "source": [
    "spotify = ba.SpotifyAPI(client_id, client_secret);\n",
    "spotify.set_scope(\"playlist-read-private\")\n",
    "spotify.perform_auth_grant_flow()"
   ]
  },
  {
   "cell_type": "code",
   "execution_count": null,
   "metadata": {},
   "outputs": [],
   "source": [
    "spotify.parse_redirected_url()\n",
    "spotify.set_access_token_and_expire()\n",
    "spotify.set_headers(spotify.get_access_token())"
   ]
  },
  {
   "cell_type": "code",
   "execution_count": null,
   "metadata": {},
   "outputs": [],
   "source": [
    "playlist_json = spotify.get_current_user_playlists();\n",
    "playlist_ids = spotify.get_playlists_ids(playlist_json)\n",
    "artists_and_genres = spotify.get_all_artists_from_playlists(playlist_ids)"
   ]
  },
  {
   "cell_type": "code",
   "execution_count": null,
   "metadata": {},
   "outputs": [],
   "source": [
    "artists_and_genres_merged = sum(artists_and_genres, [])"
   ]
  },
  {
   "cell_type": "code",
   "execution_count": null,
   "metadata": {},
   "outputs": [],
   "source": [
    "w = csv.writer(open(\"artists_genres.csv\", \"w\"), delimiter=',')\n",
    "w.writerow(['artist', 'genres'])\n",
    "for record in artists_and_genres_merged:\n",
    "    for key, val in record.items():\n",
    "        val = ','.join(val)\n",
    "        w.writerow([key, val])"
   ]
  },
  {
   "cell_type": "code",
   "execution_count": null,
   "metadata": {},
   "outputs": [],
   "source": [
    "songs_data = pd.read_csv('artists_genres.csv')"
   ]
  },
  {
   "cell_type": "code",
   "execution_count": null,
   "metadata": {},
   "outputs": [],
   "source": [
    "genres_df = songs_data['genres'].str.split(',', expand=True).rename(columns = lambda x: \"genre\"+str(x+1))"
   ]
  },
  {
   "cell_type": "code",
   "execution_count": null,
   "metadata": {},
   "outputs": [],
   "source": [
    "genres_list = []\n",
    "for col in genres_df:\n",
    "    genres_list.append(genres_df[col].unique().tolist())\n",
    "\n",
    "#removing duplicates\n",
    "genres_list = list(set(sum(genres_list, [])))"
   ]
  },
  {
   "cell_type": "code",
   "execution_count": null,
   "metadata": {},
   "outputs": [],
   "source": [
    "def remove_none_elements_from_list(list):\n",
    "    return [e for e in list if e != None]\n",
    "\n",
    "genres_list = remove_none_elements_from_list(genres_list)"
   ]
  },
  {
   "cell_type": "code",
   "execution_count": null,
   "metadata": {},
   "outputs": [],
   "source": [
    "occurences = {}\n",
    "\n",
    "for genre in genres_list:\n",
    "    count = 0\n",
    "    for genre_col in genres_df:\n",
    "        count = count + (genres_df[genre_col] == genre).sum()\n",
    "    occurences[genre] = count\n",
    "    \n",
    "sorted_occurences = {}\n",
    "sorted_keys = sorted(occurences, key=occurences.get)\n",
    "\n",
    "for key in sorted_keys:\n",
    "    sorted_occurences[key] = occurences[key]"
   ]
  },
  {
   "cell_type": "code",
   "execution_count": null,
   "metadata": {},
   "outputs": [],
   "source": [
    "plt.figure(figsize=(100,100))\n",
    "plt.xticks(rotation='vertical')\n",
    "plt.bar(*zip(*sorted_occurences.items()))\n",
    "plt.show\n",
    "plt.savefig('result.png')"
   ]
  },
  {
   "cell_type": "code",
   "execution_count": null,
   "metadata": {},
   "outputs": [],
   "source": []
  }
 ],
 "metadata": {
  "kernelspec": {
   "display_name": "Python 3",
   "language": "python",
   "name": "python3"
  },
  "language_info": {
   "codemirror_mode": {
    "name": "ipython",
    "version": 3
   },
   "file_extension": ".py",
   "mimetype": "text/x-python",
   "name": "python",
   "nbconvert_exporter": "python",
   "pygments_lexer": "ipython3",
   "version": "3.8.5"
  }
 },
 "nbformat": 4,
 "nbformat_minor": 4
}
